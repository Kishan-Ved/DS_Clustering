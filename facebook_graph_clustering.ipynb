{
 "cells": [
  {
   "cell_type": "markdown",
   "metadata": {},
   "source": [
    "# Facebook graph: Clustering based on Density\n",
    "Kishan Ved\n",
    "\n",
    "22110122"
   ]
  },
  {
   "cell_type": "markdown",
   "metadata": {},
   "source": [
    "### Import the dataframe"
   ]
  },
  {
   "cell_type": "code",
   "execution_count": 1,
   "metadata": {},
   "outputs": [
    {
     "data": {
      "text/html": [
       "<div>\n",
       "<style scoped>\n",
       "    .dataframe tbody tr th:only-of-type {\n",
       "        vertical-align: middle;\n",
       "    }\n",
       "\n",
       "    .dataframe tbody tr th {\n",
       "        vertical-align: top;\n",
       "    }\n",
       "\n",
       "    .dataframe thead th {\n",
       "        text-align: right;\n",
       "    }\n",
       "</style>\n",
       "<table border=\"1\" class=\"dataframe\">\n",
       "  <thead>\n",
       "    <tr style=\"text-align: right;\">\n",
       "      <th></th>\n",
       "      <th>id</th>\n",
       "      <th>facebook_id</th>\n",
       "      <th>page_name</th>\n",
       "      <th>page_type</th>\n",
       "    </tr>\n",
       "  </thead>\n",
       "  <tbody>\n",
       "    <tr>\n",
       "      <th>0</th>\n",
       "      <td>0</td>\n",
       "      <td>145647315578475</td>\n",
       "      <td>The Voice of China 中国好声音</td>\n",
       "      <td>tvshow</td>\n",
       "    </tr>\n",
       "    <tr>\n",
       "      <th>1</th>\n",
       "      <td>1</td>\n",
       "      <td>191483281412</td>\n",
       "      <td>U.S. Consulate General Mumbai</td>\n",
       "      <td>government</td>\n",
       "    </tr>\n",
       "    <tr>\n",
       "      <th>2</th>\n",
       "      <td>2</td>\n",
       "      <td>144761358898518</td>\n",
       "      <td>ESET</td>\n",
       "      <td>company</td>\n",
       "    </tr>\n",
       "    <tr>\n",
       "      <th>3</th>\n",
       "      <td>3</td>\n",
       "      <td>568700043198473</td>\n",
       "      <td>Consulate General of Switzerland in Montreal</td>\n",
       "      <td>government</td>\n",
       "    </tr>\n",
       "    <tr>\n",
       "      <th>4</th>\n",
       "      <td>4</td>\n",
       "      <td>1408935539376139</td>\n",
       "      <td>Mark Bailey MP - Labor for Miller</td>\n",
       "      <td>politician</td>\n",
       "    </tr>\n",
       "    <tr>\n",
       "      <th>...</th>\n",
       "      <td>...</td>\n",
       "      <td>...</td>\n",
       "      <td>...</td>\n",
       "      <td>...</td>\n",
       "    </tr>\n",
       "    <tr>\n",
       "      <th>22465</th>\n",
       "      <td>22465</td>\n",
       "      <td>1379955382222841</td>\n",
       "      <td>Kurt Wiegel MdL</td>\n",
       "      <td>politician</td>\n",
       "    </tr>\n",
       "    <tr>\n",
       "      <th>22466</th>\n",
       "      <td>22466</td>\n",
       "      <td>1651527995097082</td>\n",
       "      <td>dubdub Stories</td>\n",
       "      <td>company</td>\n",
       "    </tr>\n",
       "    <tr>\n",
       "      <th>22467</th>\n",
       "      <td>22467</td>\n",
       "      <td>155369444540412</td>\n",
       "      <td>Ministerio del Interior - Paraguay</td>\n",
       "      <td>government</td>\n",
       "    </tr>\n",
       "    <tr>\n",
       "      <th>22468</th>\n",
       "      <td>22468</td>\n",
       "      <td>175067819212798</td>\n",
       "      <td>Tottus Perú</td>\n",
       "      <td>company</td>\n",
       "    </tr>\n",
       "    <tr>\n",
       "      <th>22469</th>\n",
       "      <td>22469</td>\n",
       "      <td>27208897877</td>\n",
       "      <td>SPORT1 Doppelpass</td>\n",
       "      <td>tvshow</td>\n",
       "    </tr>\n",
       "  </tbody>\n",
       "</table>\n",
       "<p>22470 rows × 4 columns</p>\n",
       "</div>"
      ],
      "text/plain": [
       "          id       facebook_id                                     page_name  \\\n",
       "0          0   145647315578475                      The Voice of China 中国好声音   \n",
       "1          1      191483281412                 U.S. Consulate General Mumbai   \n",
       "2          2   144761358898518                                          ESET   \n",
       "3          3   568700043198473  Consulate General of Switzerland in Montreal   \n",
       "4          4  1408935539376139             Mark Bailey MP - Labor for Miller   \n",
       "...      ...               ...                                           ...   \n",
       "22465  22465  1379955382222841                               Kurt Wiegel MdL   \n",
       "22466  22466  1651527995097082                                dubdub Stories   \n",
       "22467  22467   155369444540412            Ministerio del Interior - Paraguay   \n",
       "22468  22468   175067819212798                                   Tottus Perú   \n",
       "22469  22469       27208897877                             SPORT1 Doppelpass   \n",
       "\n",
       "        page_type  \n",
       "0          tvshow  \n",
       "1      government  \n",
       "2         company  \n",
       "3      government  \n",
       "4      politician  \n",
       "...           ...  \n",
       "22465  politician  \n",
       "22466     company  \n",
       "22467  government  \n",
       "22468     company  \n",
       "22469      tvshow  \n",
       "\n",
       "[22470 rows x 4 columns]"
      ]
     },
     "execution_count": 1,
     "metadata": {},
     "output_type": "execute_result"
    }
   ],
   "source": [
    "import pandas as pd\n",
    "import numpy as np\n",
    "\n",
    "df = pd.read_csv('musae_facebook_target.csv');\n",
    "df"
   ]
  },
  {
   "cell_type": "markdown",
   "metadata": {},
   "source": [
    "### Import the edges"
   ]
  },
  {
   "cell_type": "code",
   "execution_count": 2,
   "metadata": {},
   "outputs": [
    {
     "data": {
      "text/html": [
       "<div>\n",
       "<style scoped>\n",
       "    .dataframe tbody tr th:only-of-type {\n",
       "        vertical-align: middle;\n",
       "    }\n",
       "\n",
       "    .dataframe tbody tr th {\n",
       "        vertical-align: top;\n",
       "    }\n",
       "\n",
       "    .dataframe thead th {\n",
       "        text-align: right;\n",
       "    }\n",
       "</style>\n",
       "<table border=\"1\" class=\"dataframe\">\n",
       "  <thead>\n",
       "    <tr style=\"text-align: right;\">\n",
       "      <th></th>\n",
       "      <th>id_1</th>\n",
       "      <th>id_2</th>\n",
       "    </tr>\n",
       "  </thead>\n",
       "  <tbody>\n",
       "    <tr>\n",
       "      <th>0</th>\n",
       "      <td>0</td>\n",
       "      <td>18427</td>\n",
       "    </tr>\n",
       "    <tr>\n",
       "      <th>1</th>\n",
       "      <td>1</td>\n",
       "      <td>21708</td>\n",
       "    </tr>\n",
       "    <tr>\n",
       "      <th>2</th>\n",
       "      <td>1</td>\n",
       "      <td>22208</td>\n",
       "    </tr>\n",
       "    <tr>\n",
       "      <th>3</th>\n",
       "      <td>1</td>\n",
       "      <td>22171</td>\n",
       "    </tr>\n",
       "    <tr>\n",
       "      <th>4</th>\n",
       "      <td>1</td>\n",
       "      <td>6829</td>\n",
       "    </tr>\n",
       "    <tr>\n",
       "      <th>...</th>\n",
       "      <td>...</td>\n",
       "      <td>...</td>\n",
       "    </tr>\n",
       "    <tr>\n",
       "      <th>170997</th>\n",
       "      <td>20188</td>\n",
       "      <td>20188</td>\n",
       "    </tr>\n",
       "    <tr>\n",
       "      <th>170998</th>\n",
       "      <td>22340</td>\n",
       "      <td>22383</td>\n",
       "    </tr>\n",
       "    <tr>\n",
       "      <th>170999</th>\n",
       "      <td>22348</td>\n",
       "      <td>22348</td>\n",
       "    </tr>\n",
       "    <tr>\n",
       "      <th>171000</th>\n",
       "      <td>5563</td>\n",
       "      <td>5563</td>\n",
       "    </tr>\n",
       "    <tr>\n",
       "      <th>171001</th>\n",
       "      <td>22425</td>\n",
       "      <td>22425</td>\n",
       "    </tr>\n",
       "  </tbody>\n",
       "</table>\n",
       "<p>171002 rows × 2 columns</p>\n",
       "</div>"
      ],
      "text/plain": [
       "         id_1   id_2\n",
       "0           0  18427\n",
       "1           1  21708\n",
       "2           1  22208\n",
       "3           1  22171\n",
       "4           1   6829\n",
       "...       ...    ...\n",
       "170997  20188  20188\n",
       "170998  22340  22383\n",
       "170999  22348  22348\n",
       "171000   5563   5563\n",
       "171001  22425  22425\n",
       "\n",
       "[171002 rows x 2 columns]"
      ]
     },
     "execution_count": 2,
     "metadata": {},
     "output_type": "execute_result"
    }
   ],
   "source": [
    "edges_df = pd.read_csv(\"musae_facebook_edges.csv\")\n",
    "edges_df"
   ]
  },
  {
   "attachments": {
    "image.png": {
     "image/png": "[encoded data removed]"
    }
   },
   "cell_type": "markdown",
   "metadata": {},
   "source": [
    "![image.png](attachment:image.png)"
   ]
  },
  {
   "attachments": {
    "image.png": {
     "image/png": "[encoded data removed]"
    }
   },
   "cell_type": "markdown",
   "metadata": {},
   "source": [
    "### 2-Approx Greedy algorithm\n",
    "\n",
    "![image.png](attachment:image.png)"
   ]
  },
  {
   "cell_type": "markdown",
   "metadata": {},
   "source": [
    "### Dictionaries of degree, neighbors and self-loops (if >0) of vertices"
   ]
  },
  {
   "cell_type": "code",
   "execution_count": 3,
   "metadata": {},
   "outputs": [],
   "source": [
    "deg = {}\n",
    "neighbors = {}\n",
    "self_loops = {}\n",
    "\n",
    "for _, row in edges_df.iterrows():\n",
    "    if row['id_1'] == row['id_2']:\n",
    "        if row['id_1'] in self_loops:\n",
    "            self_loops[row['id_1']] += 1\n",
    "        else:\n",
    "            self_loops[row['id_1']] = 1\n",
    "\n",
    "    for node in ['id_1', 'id_2']:\n",
    "        if row[node] in deg:\n",
    "            deg[row[node]] += 1\n",
    "        else:\n",
    "            deg[row[node]] = 1\n",
    "\n",
    "    # Append to the neighbors list\n",
    "    if row['id_1'] in neighbors:\n",
    "        neighbors[row['id_1']].append(row['id_2'])\n",
    "    else:\n",
    "        neighbors[row['id_1']] = [row['id_2']]\n",
    "\n",
    "    if row['id_2'] in neighbors:\n",
    "        neighbors[row['id_2']].append(row['id_1'])\n",
    "    else:\n",
    "        neighbors[row['id_2']] = [row['id_1']]\n"
   ]
  },
  {
   "cell_type": "markdown",
   "metadata": {},
   "source": [
    "### Total edges in the graph"
   ]
  },
  {
   "cell_type": "code",
   "execution_count": 4,
   "metadata": {},
   "outputs": [
    {
     "data": {
      "text/plain": [
       "171002.0"
      ]
     },
     "execution_count": 4,
     "metadata": {},
     "output_type": "execute_result"
    }
   ],
   "source": [
    "tot = sum(deg.values())/2\n",
    "tot # e(S,S)"
   ]
  },
  {
   "cell_type": "markdown",
   "metadata": {},
   "source": [
    "### Total vertices in the graph"
   ]
  },
  {
   "cell_type": "code",
   "execution_count": 5,
   "metadata": {},
   "outputs": [
    {
     "data": {
      "text/plain": [
       "22470"
      ]
     },
     "execution_count": 5,
     "metadata": {},
     "output_type": "execute_result"
    }
   ],
   "source": [
    "ctr = len(deg) # |S|\n",
    "total_vertices = ctr\n",
    "total_vertices"
   ]
  },
  {
   "cell_type": "markdown",
   "metadata": {},
   "source": [
    "### Arrays of density and vertex"
   ]
  },
  {
   "cell_type": "code",
   "execution_count": 6,
   "metadata": {},
   "outputs": [],
   "source": [
    "density = [] # stores densities\n",
    "vertex = [] # vertex[0:i] (i included) contains vertices removed to achive density[i+1], i+1 as density[0] is for the full graph"
   ]
  },
  {
   "cell_type": "markdown",
   "metadata": {},
   "source": [
    "### Density of the full graph"
   ]
  },
  {
   "cell_type": "code",
   "execution_count": 7,
   "metadata": {},
   "outputs": [
    {
     "name": "stdout",
     "output_type": "stream",
     "text": [
      "[7.610235870048954]\n"
     ]
    }
   ],
   "source": [
    "density.append(tot/total_vertices) # Density of the full graph\n",
    "print(density)"
   ]
  },
  {
   "cell_type": "markdown",
   "metadata": {},
   "source": [
    "### Function to calucate the density of the subgraph after removing the min. degree vertex"
   ]
  },
  {
   "cell_type": "code",
   "execution_count": 8,
   "metadata": {},
   "outputs": [],
   "source": [
    "def find_density_greedy():\n",
    "    global tot\n",
    "    global deg\n",
    "    global ctr\n",
    "    global edges_df\n",
    "    global vertex\n",
    "    \n",
    "    v = min(deg, key=lambda k: deg[k]) # vertex with minimum degree\n",
    "    vertex.append(v) # Store the removed vertex\n",
    "    ctr = ctr - 1 # decrease |S| by 1 (as v is removed)\n",
    "    tot = tot - deg[v] # Update e(S,S)\n",
    "    # Check for self edges, in that case, we subtracted 2, but we must subtract only one\n",
    "    if v in self_loops:\n",
    "        tot += self_loops[v]\n",
    "    \n",
    "    den = tot / ctr\n",
    "    density.append(den)\n",
    "    deg.pop(v) # Remove v from deg\n",
    "    \n",
    "    selected_rows = pd.Series(neighbors[v])\n",
    "    deg_update = selected_rows.value_counts().to_dict()\n",
    "    for ver, count in deg_update.items():\n",
    "        if ver in deg:\n",
    "            deg[ver] -= count"
   ]
  },
  {
   "cell_type": "code",
   "execution_count": 9,
   "metadata": {},
   "outputs": [
    {
     "name": "stdout",
     "output_type": "stream",
     "text": [
      "1000\n",
      "2000\n",
      "3000\n",
      "4000\n",
      "5000\n",
      "6000\n",
      "7000\n",
      "8000\n",
      "9000\n",
      "10000\n",
      "11000\n",
      "12000\n",
      "13000\n",
      "14000\n",
      "15000\n",
      "16000\n",
      "17000\n",
      "18000\n",
      "19000\n",
      "20000\n",
      "21000\n",
      "22000\n"
     ]
    }
   ],
   "source": [
    "i = 1\n",
    "while(ctr>1):\n",
    "    i+=1\n",
    "    if (i%1000==0): # Prints i to get an estimate of how much execution is done\n",
    "        print(i)\n",
    "    find_density_greedy()\n",
    "    if(tot != sum(deg.values())/2): # Checks for correctness\n",
    "        print(\"here\")"
   ]
  },
  {
   "cell_type": "code",
   "execution_count": 10,
   "metadata": {},
   "outputs": [],
   "source": [
    "density = np.array(density)"
   ]
  },
  {
   "cell_type": "code",
   "execution_count": 11,
   "metadata": {},
   "outputs": [
    {
     "name": "stdout",
     "output_type": "stream",
     "text": [
      "Densest subgraph has density: 35.006230529595015\n"
     ]
    }
   ],
   "source": [
    "x = np.argmax(density)\n",
    "print(\"Densest subgraph has density:\",density[x])"
   ]
  },
  {
   "cell_type": "markdown",
   "metadata": {},
   "source": [
    "### Visualizing the densities"
   ]
  },
  {
   "cell_type": "code",
   "execution_count": 12,
   "metadata": {},
   "outputs": [
    {
     "name": "stderr",
     "output_type": "stream",
     "text": [
      "/home/kishan/.local/lib/python3.10/site-packages/matplotlib/projections/__init__.py:63: UserWarning: Unable to import Axes3D. This may be due to multiple versions of Matplotlib being installed (e.g. as a system package and as a pip package). As a result, the 3D projection is not available.\n",
      "  warnings.warn(\"Unable to import Axes3D. This may be due to multiple versions of \"\n"
     ]
    },
    {
     "data": {
      "text/plain": [
       "[<matplotlib.lines.Line2D at 0x7f0ffefd43d0>]"
      ]
     },
     "execution_count": 12,
     "metadata": {},
     "output_type": "execute_result"
    },
    {
     "data": {
      "image/png": "[encoded data removed]",
      "text/plain": [
       "<Figure size 640x480 with 1 Axes>"
      ]
     },
     "metadata": {},
     "output_type": "display_data"
    }
   ],
   "source": [
    "import matplotlib.pyplot as plt\n",
    "\n",
    "plt.plot(np.arange(0,total_vertices),density)"
   ]
  },
  {
   "cell_type": "code",
   "execution_count": 13,
   "metadata": {},
   "outputs": [
    {
     "name": "stdout",
     "output_type": "stream",
     "text": [
      "22149\n"
     ]
    }
   ],
   "source": [
    "print(x)"
   ]
  },
  {
   "cell_type": "code",
   "execution_count": 14,
   "metadata": {},
   "outputs": [
    {
     "name": "stdout",
     "output_type": "stream",
     "text": [
      "Number of nodes in the densest subgraph 321\n"
     ]
    }
   ],
   "source": [
    "graph = []\n",
    "for i in list(neighbors.keys()): # As neighbors.keys() contains all the nodes currently in the graph\n",
    "    if i not in vertex[:x]: # 0 to x-1 as density[0] was of full graph, so 1...x of denisty is 0...x-1 for vertices\n",
    "        graph.append(i)\n",
    "print(\"Number of nodes in the densest subgraph\",len(graph))"
   ]
  },
  {
   "cell_type": "markdown",
   "metadata": {},
   "source": [
    "### Full Graph nodes:"
   ]
  },
  {
   "cell_type": "code",
   "execution_count": 15,
   "metadata": {},
   "outputs": [
    {
     "data": {
      "text/plain": [
       "{'tvshow': 3327, 'government': 6880, 'company': 6495, 'politician': 5768}"
      ]
     },
     "execution_count": 15,
     "metadata": {},
     "output_type": "execute_result"
    }
   ],
   "source": [
    "fullgraph = {}\n",
    "for ver in list(neighbors.keys()):\n",
    "    type = df.loc[ver, 'page_type']\n",
    "    if(type in fullgraph.keys()):\n",
    "        fullgraph[type] += 1\n",
    "    else:\n",
    "        fullgraph[type] = 1\n",
    "\n",
    "fullgraph"
   ]
  },
  {
   "cell_type": "markdown",
   "metadata": {},
   "source": [
    "### Densest Cluster nodes:"
   ]
  },
  {
   "cell_type": "code",
   "execution_count": 16,
   "metadata": {},
   "outputs": [
    {
     "name": "stdout",
     "output_type": "stream",
     "text": [
      "Node info: {'government': 257, 'company': 4, 'tvshow': 60}\n"
     ]
    }
   ],
   "source": [
    "dense1 = {}\n",
    "for ver in graph:\n",
    "    type = df.loc[ver, 'page_type']\n",
    "    if(type in dense1.keys()):\n",
    "        dense1[type] += 1\n",
    "    else:\n",
    "        dense1[type] = 1\n",
    "\n",
    "print(\"Node info:\",dense1)"
   ]
  },
  {
   "cell_type": "code",
   "execution_count": 17,
   "metadata": {},
   "outputs": [
    {
     "data": {
      "text/html": [
       "<div>\n",
       "<style scoped>\n",
       "    .dataframe tbody tr th:only-of-type {\n",
       "        vertical-align: middle;\n",
       "    }\n",
       "\n",
       "    .dataframe tbody tr th {\n",
       "        vertical-align: top;\n",
       "    }\n",
       "\n",
       "    .dataframe thead th {\n",
       "        text-align: right;\n",
       "    }\n",
       "</style>\n",
       "<table border=\"1\" class=\"dataframe\">\n",
       "  <thead>\n",
       "    <tr style=\"text-align: right;\">\n",
       "      <th></th>\n",
       "      <th>id</th>\n",
       "      <th>facebook_id</th>\n",
       "      <th>page_name</th>\n",
       "      <th>page_type</th>\n",
       "    </tr>\n",
       "  </thead>\n",
       "  <tbody>\n",
       "    <tr>\n",
       "      <th>44</th>\n",
       "      <td>44</td>\n",
       "      <td>1507698529534072</td>\n",
       "      <td>APB FOX</td>\n",
       "      <td>tvshow</td>\n",
       "    </tr>\n",
       "    <tr>\n",
       "      <th>127</th>\n",
       "      <td>127</td>\n",
       "      <td>354595427910013</td>\n",
       "      <td>GovX</td>\n",
       "      <td>company</td>\n",
       "    </tr>\n",
       "    <tr>\n",
       "      <th>159</th>\n",
       "      <td>159</td>\n",
       "      <td>167394579972573</td>\n",
       "      <td>JRTC and Fort Polk</td>\n",
       "      <td>government</td>\n",
       "    </tr>\n",
       "    <tr>\n",
       "      <th>568</th>\n",
       "      <td>568</td>\n",
       "      <td>127428534470290</td>\n",
       "      <td>The Orville</td>\n",
       "      <td>tvshow</td>\n",
       "    </tr>\n",
       "    <tr>\n",
       "      <th>679</th>\n",
       "      <td>679</td>\n",
       "      <td>146451038734267</td>\n",
       "      <td>Michigan National Guard</td>\n",
       "      <td>government</td>\n",
       "    </tr>\n",
       "    <tr>\n",
       "      <th>...</th>\n",
       "      <td>...</td>\n",
       "      <td>...</td>\n",
       "      <td>...</td>\n",
       "      <td>...</td>\n",
       "    </tr>\n",
       "    <tr>\n",
       "      <th>22252</th>\n",
       "      <td>22252</td>\n",
       "      <td>174788155866586</td>\n",
       "      <td>U.S. Army School of Music</td>\n",
       "      <td>government</td>\n",
       "    </tr>\n",
       "    <tr>\n",
       "      <th>22265</th>\n",
       "      <td>22265</td>\n",
       "      <td>61575637587</td>\n",
       "      <td>U.S. Pacific Command</td>\n",
       "      <td>government</td>\n",
       "    </tr>\n",
       "    <tr>\n",
       "      <th>22328</th>\n",
       "      <td>22328</td>\n",
       "      <td>114802901909136</td>\n",
       "      <td>North Carolina National Guard</td>\n",
       "      <td>government</td>\n",
       "    </tr>\n",
       "    <tr>\n",
       "      <th>22349</th>\n",
       "      <td>22349</td>\n",
       "      <td>110318209007293</td>\n",
       "      <td>21st Theater Sustainment Command</td>\n",
       "      <td>government</td>\n",
       "    </tr>\n",
       "    <tr>\n",
       "      <th>22398</th>\n",
       "      <td>22398</td>\n",
       "      <td>100187832121</td>\n",
       "      <td>U.S. Army Civil Affairs &amp; Psychological Operat...</td>\n",
       "      <td>government</td>\n",
       "    </tr>\n",
       "  </tbody>\n",
       "</table>\n",
       "<p>321 rows × 4 columns</p>\n",
       "</div>"
      ],
      "text/plain": [
       "          id       facebook_id  \\\n",
       "44        44  1507698529534072   \n",
       "127      127   354595427910013   \n",
       "159      159   167394579972573   \n",
       "568      568   127428534470290   \n",
       "679      679   146451038734267   \n",
       "...      ...               ...   \n",
       "22252  22252   174788155866586   \n",
       "22265  22265       61575637587   \n",
       "22328  22328   114802901909136   \n",
       "22349  22349   110318209007293   \n",
       "22398  22398      100187832121   \n",
       "\n",
       "                                               page_name   page_type  \n",
       "44                                               APB FOX      tvshow  \n",
       "127                                                 GovX     company  \n",
       "159                                   JRTC and Fort Polk  government  \n",
       "568                                          The Orville      tvshow  \n",
       "679                              Michigan National Guard  government  \n",
       "...                                                  ...         ...  \n",
       "22252                          U.S. Army School of Music  government  \n",
       "22265                               U.S. Pacific Command  government  \n",
       "22328                      North Carolina National Guard  government  \n",
       "22349                   21st Theater Sustainment Command  government  \n",
       "22398  U.S. Army Civil Affairs & Psychological Operat...  government  \n",
       "\n",
       "[321 rows x 4 columns]"
      ]
     },
     "execution_count": 17,
     "metadata": {},
     "output_type": "execute_result"
    }
   ],
   "source": [
    "df[df['id'].isin(graph)]"
   ]
  },
  {
   "cell_type": "code",
   "execution_count": 18,
   "metadata": {},
   "outputs": [
    {
     "name": "stdout",
     "output_type": "stream",
     "text": [
      "Entropy of the densest subgraph: 0.5461501418344485\n"
     ]
    }
   ],
   "source": [
    "entropy=0\n",
    "for x in dense1.values():\n",
    "    entropy += -1*(x/sum(dense1.values()))*np.log(x/sum(dense1.values()))\n",
    "print(\"Entropy of the densest subgraph:\",entropy)"
   ]
  },
  {
   "cell_type": "markdown",
   "metadata": {},
   "source": [
    "### Peeling this densest subgraph from the graph"
   ]
  },
  {
   "cell_type": "code",
   "execution_count": 19,
   "metadata": {},
   "outputs": [],
   "source": [
    "edges_df = edges_df[~edges_df.isin(graph).any(axis=1)]"
   ]
  },
  {
   "cell_type": "code",
   "execution_count": 20,
   "metadata": {},
   "outputs": [],
   "source": [
    "deg = {}\n",
    "neighbors = {}\n",
    "self_loops = {}\n",
    "\n",
    "for _, row in edges_df.iterrows():\n",
    "    if row['id_1'] == row['id_2']:\n",
    "        if row['id_1'] in self_loops:\n",
    "            self_loops[row['id_1']] += 1\n",
    "        else:\n",
    "            self_loops[row['id_1']] = 1\n",
    "\n",
    "    for node in ['id_1', 'id_2']:\n",
    "        if row[node] in deg:\n",
    "            deg[row[node]] += 1\n",
    "        else:\n",
    "            deg[row[node]] = 1\n",
    "\n",
    "    # Append to the neighbors list\n",
    "    if row['id_1'] in neighbors:\n",
    "        neighbors[row['id_1']].append(row['id_2'])\n",
    "    else:\n",
    "        neighbors[row['id_1']] = [row['id_2']]\n",
    "\n",
    "    if row['id_2'] in neighbors:\n",
    "        neighbors[row['id_2']].append(row['id_1'])\n",
    "    else:\n",
    "        neighbors[row['id_2']] = [row['id_1']]"
   ]
  },
  {
   "cell_type": "markdown",
   "metadata": {},
   "source": [
    "## Iteration 2"
   ]
  },
  {
   "cell_type": "markdown",
   "metadata": {},
   "source": [
    "### Finding the densest subgraph in the remaining graph"
   ]
  },
  {
   "cell_type": "code",
   "execution_count": 21,
   "metadata": {},
   "outputs": [
    {
     "name": "stdout",
     "output_type": "stream",
     "text": [
      "Number of edges e(S,S) is: 144473.0\n",
      "The total number of vertices in the graph is: 22094\n",
      "Density of the full graph is 6.539015117226397\n"
     ]
    }
   ],
   "source": [
    "tot = sum(deg.values())/2\n",
    "print(\"Number of edges e(S,S) is:\",tot) # e(S,S)\n",
    "\n",
    "ctr = len(deg) # |S|\n",
    "total_vertices = ctr\n",
    "print(\"The total number of vertices in the graph is:\",total_vertices)\n",
    "\n",
    "density = [] # stores densities\n",
    "vertex = [] # vertex[0:i] (i included) contains vertices removed to achive density[i+1], i+1 as density[0] is for the full graph\n",
    "\n",
    "density.append(tot/total_vertices) # Density of the full graph\n",
    "print(\"Density of the full graph is\",density[0])"
   ]
  },
  {
   "cell_type": "code",
   "execution_count": 22,
   "metadata": {},
   "outputs": [
    {
     "name": "stdout",
     "output_type": "stream",
     "text": [
      "1000\n",
      "2000\n",
      "3000\n",
      "4000\n",
      "5000\n",
      "6000\n",
      "7000\n",
      "8000\n",
      "9000\n",
      "10000\n",
      "11000\n",
      "12000\n",
      "13000\n",
      "14000\n",
      "15000\n",
      "16000\n",
      "17000\n",
      "18000\n",
      "19000\n",
      "20000\n",
      "21000\n",
      "22000\n"
     ]
    }
   ],
   "source": [
    "i = 1\n",
    "while(ctr>1):\n",
    "    i+=1\n",
    "    if (i%1000==0): # Prints i to get an estimate of how much execution is done\n",
    "        print(i)\n",
    "    find_density_greedy()\n",
    "    if(tot != sum(deg.values())/2): # Checks for correctness\n",
    "        print(\"here\")"
   ]
  },
  {
   "cell_type": "code",
   "execution_count": 23,
   "metadata": {},
   "outputs": [
    {
     "name": "stdout",
     "output_type": "stream",
     "text": [
      "Densest subgraph has density: 25.42222222222222\n",
      "Number of nodes in the densest subgraph 90\n",
      "Node info: {'politician': 7, 'government': 83}\n"
     ]
    }
   ],
   "source": [
    "density = np.array(density)\n",
    "x = np.argmax(density)\n",
    "print(\"Densest subgraph has density:\",density[x])\n",
    "\n",
    "graph = []\n",
    "for i in list(neighbors.keys()):\n",
    "    if i not in vertex[:x]:\n",
    "        graph.append(i)\n",
    "print(\"Number of nodes in the densest subgraph\",len(graph))\n",
    "\n",
    "dense1 = {}\n",
    "for ver in graph:\n",
    "    type = df.loc[ver, 'page_type']\n",
    "    if(type in dense1.keys()):\n",
    "        dense1[type] += 1\n",
    "    else:\n",
    "        dense1[type] = 1\n",
    "\n",
    "print(\"Node info:\",dense1)"
   ]
  },
  {
   "cell_type": "markdown",
   "metadata": {},
   "source": [
    "### The densest subgraph is:"
   ]
  },
  {
   "cell_type": "code",
   "execution_count": 24,
   "metadata": {},
   "outputs": [
    {
     "data": {
      "text/html": [
       "<div>\n",
       "<style scoped>\n",
       "    .dataframe tbody tr th:only-of-type {\n",
       "        vertical-align: middle;\n",
       "    }\n",
       "\n",
       "    .dataframe tbody tr th {\n",
       "        vertical-align: top;\n",
       "    }\n",
       "\n",
       "    .dataframe thead th {\n",
       "        text-align: right;\n",
       "    }\n",
       "</style>\n",
       "<table border=\"1\" class=\"dataframe\">\n",
       "  <thead>\n",
       "    <tr style=\"text-align: right;\">\n",
       "      <th></th>\n",
       "      <th>id</th>\n",
       "      <th>facebook_id</th>\n",
       "      <th>page_name</th>\n",
       "      <th>page_type</th>\n",
       "    </tr>\n",
       "  </thead>\n",
       "  <tbody>\n",
       "    <tr>\n",
       "      <th>173</th>\n",
       "      <td>173</td>\n",
       "      <td>134470763282957</td>\n",
       "      <td>European Union in Israel</td>\n",
       "      <td>government</td>\n",
       "    </tr>\n",
       "    <tr>\n",
       "      <th>238</th>\n",
       "      <td>238</td>\n",
       "      <td>160579703997119</td>\n",
       "      <td>European Union in Thailand</td>\n",
       "      <td>government</td>\n",
       "    </tr>\n",
       "    <tr>\n",
       "      <th>522</th>\n",
       "      <td>522</td>\n",
       "      <td>479130188842492</td>\n",
       "      <td>União Europeia na Guiné-Bissau</td>\n",
       "      <td>government</td>\n",
       "    </tr>\n",
       "    <tr>\n",
       "      <th>710</th>\n",
       "      <td>710</td>\n",
       "      <td>478590035626002</td>\n",
       "      <td>European Union in Mauritius</td>\n",
       "      <td>government</td>\n",
       "    </tr>\n",
       "    <tr>\n",
       "      <th>1078</th>\n",
       "      <td>1078</td>\n",
       "      <td>583097918426250</td>\n",
       "      <td>European Union in New Zealand</td>\n",
       "      <td>government</td>\n",
       "    </tr>\n",
       "    <tr>\n",
       "      <th>...</th>\n",
       "      <td>...</td>\n",
       "      <td>...</td>\n",
       "      <td>...</td>\n",
       "      <td>...</td>\n",
       "    </tr>\n",
       "    <tr>\n",
       "      <th>21211</th>\n",
       "      <td>21211</td>\n",
       "      <td>170400489279</td>\n",
       "      <td>Representação da Comissão Europeia em Portugal</td>\n",
       "      <td>government</td>\n",
       "    </tr>\n",
       "    <tr>\n",
       "      <th>21325</th>\n",
       "      <td>21325</td>\n",
       "      <td>492150400807824</td>\n",
       "      <td>Frans Timmermans</td>\n",
       "      <td>politician</td>\n",
       "    </tr>\n",
       "    <tr>\n",
       "      <th>21764</th>\n",
       "      <td>21764</td>\n",
       "      <td>340835129292987</td>\n",
       "      <td>European Union in Vietnam</td>\n",
       "      <td>government</td>\n",
       "    </tr>\n",
       "    <tr>\n",
       "      <th>22109</th>\n",
       "      <td>22109</td>\n",
       "      <td>283061845058938</td>\n",
       "      <td>Европейската комисия в България / European Com...</td>\n",
       "      <td>government</td>\n",
       "    </tr>\n",
       "    <tr>\n",
       "      <th>22438</th>\n",
       "      <td>22438</td>\n",
       "      <td>154329207930803</td>\n",
       "      <td>Federica Mogherini</td>\n",
       "      <td>politician</td>\n",
       "    </tr>\n",
       "  </tbody>\n",
       "</table>\n",
       "<p>90 rows × 4 columns</p>\n",
       "</div>"
      ],
      "text/plain": [
       "          id      facebook_id  \\\n",
       "173      173  134470763282957   \n",
       "238      238  160579703997119   \n",
       "522      522  479130188842492   \n",
       "710      710  478590035626002   \n",
       "1078    1078  583097918426250   \n",
       "...      ...              ...   \n",
       "21211  21211     170400489279   \n",
       "21325  21325  492150400807824   \n",
       "21764  21764  340835129292987   \n",
       "22109  22109  283061845058938   \n",
       "22438  22438  154329207930803   \n",
       "\n",
       "                                               page_name   page_type  \n",
       "173                             European Union in Israel  government  \n",
       "238                           European Union in Thailand  government  \n",
       "522                       União Europeia na Guiné-Bissau  government  \n",
       "710                          European Union in Mauritius  government  \n",
       "1078                       European Union in New Zealand  government  \n",
       "...                                                  ...         ...  \n",
       "21211     Representação da Comissão Europeia em Portugal  government  \n",
       "21325                                   Frans Timmermans  politician  \n",
       "21764                          European Union in Vietnam  government  \n",
       "22109  Европейската комисия в България / European Com...  government  \n",
       "22438                                 Federica Mogherini  politician  \n",
       "\n",
       "[90 rows x 4 columns]"
      ]
     },
     "execution_count": 24,
     "metadata": {},
     "output_type": "execute_result"
    }
   ],
   "source": [
    "df[df['id'].isin(graph)]"
   ]
  },
  {
   "cell_type": "code",
   "execution_count": 25,
   "metadata": {},
   "outputs": [
    {
     "name": "stdout",
     "output_type": "stream",
     "text": [
      "Entropy of the densest subgraph: 0.2733080982135448\n"
     ]
    }
   ],
   "source": [
    "entropy=0\n",
    "for x in dense1.values():\n",
    "    entropy += -1*(x/sum(dense1.values()))*np.log(x/sum(dense1.values()))\n",
    "print(\"Entropy of the densest subgraph:\",entropy)"
   ]
  },
  {
   "cell_type": "markdown",
   "metadata": {},
   "source": [
    "### Peeling this densest subgraph from the graph"
   ]
  },
  {
   "cell_type": "markdown",
   "metadata": {},
   "source": [
    "Removing all edges having a vertex in graph"
   ]
  },
  {
   "cell_type": "code",
   "execution_count": 26,
   "metadata": {},
   "outputs": [],
   "source": [
    "edges_df = edges_df[~edges_df.isin(graph).any(axis=1)]"
   ]
  },
  {
   "cell_type": "markdown",
   "metadata": {},
   "source": [
    "## Iteration 3"
   ]
  },
  {
   "cell_type": "markdown",
   "metadata": {},
   "source": [
    "### Finding the densest subgraph in the remaining graph"
   ]
  },
  {
   "cell_type": "code",
   "execution_count": 27,
   "metadata": {},
   "outputs": [],
   "source": [
    "deg = {}\n",
    "neighbors = {}\n",
    "self_loops = {}\n",
    "\n",
    "for _, row in edges_df.iterrows():\n",
    "    if row['id_1'] == row['id_2']:\n",
    "        if row['id_1'] in self_loops:\n",
    "            self_loops[row['id_1']] += 1\n",
    "        else:\n",
    "            self_loops[row['id_1']] = 1\n",
    "\n",
    "    for node in ['id_1', 'id_2']:\n",
    "        if row[node] in deg:\n",
    "            deg[row[node]] += 1\n",
    "        else:\n",
    "            deg[row[node]] = 1\n",
    "\n",
    "    # Append to the neighbors list\n",
    "    if row['id_1'] in neighbors:\n",
    "        neighbors[row['id_1']].append(row['id_2'])\n",
    "    else:\n",
    "        neighbors[row['id_1']] = [row['id_2']]\n",
    "\n",
    "    if row['id_2'] in neighbors:\n",
    "        neighbors[row['id_2']].append(row['id_1'])\n",
    "    else:\n",
    "        neighbors[row['id_2']] = [row['id_1']]"
   ]
  },
  {
   "cell_type": "code",
   "execution_count": 28,
   "metadata": {},
   "outputs": [
    {
     "name": "stdout",
     "output_type": "stream",
     "text": [
      "Number of edges e(S,S) is: 138811.0\n",
      "The total number of vertices in the graph is: 21996\n",
      "Density of the full graph is 6.310738316057465\n"
     ]
    }
   ],
   "source": [
    "tot = sum(deg.values())/2\n",
    "print(\"Number of edges e(S,S) is:\",tot) # e(S,S)\n",
    "\n",
    "ctr = len(deg) # |S|\n",
    "total_vertices = ctr\n",
    "print(\"The total number of vertices in the graph is:\",total_vertices)\n",
    "\n",
    "density = [] # stores densities\n",
    "vertex = [] # vertex[0:i] (i included) contains vertices removed to achive density[i+1], i+1 as density[0] is for the full graph\n",
    "\n",
    "density.append(tot/total_vertices) # Density of the full graph\n",
    "print(\"Density of the full graph is\",density[0])"
   ]
  },
  {
   "cell_type": "code",
   "execution_count": 29,
   "metadata": {},
   "outputs": [
    {
     "name": "stdout",
     "output_type": "stream",
     "text": [
      "1000\n",
      "2000\n",
      "3000\n",
      "4000\n",
      "5000\n",
      "6000\n",
      "7000\n",
      "8000\n",
      "9000\n",
      "10000\n",
      "11000\n",
      "12000\n",
      "13000\n",
      "14000\n",
      "15000\n",
      "16000\n",
      "17000\n",
      "18000\n",
      "19000\n",
      "20000\n",
      "21000\n"
     ]
    }
   ],
   "source": [
    "i = 1\n",
    "while(ctr>1):\n",
    "    i+=1\n",
    "    if (i%1000==0): # Prints i to get an estimate of how much execution is done\n",
    "        print(i)\n",
    "    find_density_greedy()\n",
    "    if(tot != sum(deg.values())/2): # Checks for correctness\n",
    "        print(\"here\")"
   ]
  },
  {
   "cell_type": "code",
   "execution_count": 30,
   "metadata": {},
   "outputs": [
    {
     "name": "stdout",
     "output_type": "stream",
     "text": [
      "Densest subgraph has density: 20.42149929278642\n",
      "Number of nodes in the densest subgraph 707\n",
      "Node info: {'government': 470, 'company': 3, 'politician': 196, 'tvshow': 38}\n"
     ]
    }
   ],
   "source": [
    "density = np.array(density)\n",
    "x = np.argmax(density)\n",
    "print(\"Densest subgraph has density:\",density[x])\n",
    "\n",
    "graph = []\n",
    "for i in list(neighbors.keys()):\n",
    "    if i not in vertex[:x]:\n",
    "        graph.append(i)\n",
    "print(\"Number of nodes in the densest subgraph\",len(graph))\n",
    "\n",
    "dense1 = {}\n",
    "for ver in graph:\n",
    "    type = df.loc[ver, 'page_type']\n",
    "    if(type in dense1.keys()):\n",
    "        dense1[type] += 1\n",
    "    else:\n",
    "        dense1[type] = 1\n",
    "\n",
    "print(\"Node info:\",dense1)"
   ]
  },
  {
   "cell_type": "markdown",
   "metadata": {},
   "source": [
    "### The densest subgraph is:"
   ]
  },
  {
   "cell_type": "code",
   "execution_count": 31,
   "metadata": {},
   "outputs": [
    {
     "data": {
      "text/html": [
       "<div>\n",
       "<style scoped>\n",
       "    .dataframe tbody tr th:only-of-type {\n",
       "        vertical-align: middle;\n",
       "    }\n",
       "\n",
       "    .dataframe tbody tr th {\n",
       "        vertical-align: top;\n",
       "    }\n",
       "\n",
       "    .dataframe thead th {\n",
       "        text-align: right;\n",
       "    }\n",
       "</style>\n",
       "<table border=\"1\" class=\"dataframe\">\n",
       "  <thead>\n",
       "    <tr style=\"text-align: right;\">\n",
       "      <th></th>\n",
       "      <th>id</th>\n",
       "      <th>facebook_id</th>\n",
       "      <th>page_name</th>\n",
       "      <th>page_type</th>\n",
       "    </tr>\n",
       "  </thead>\n",
       "  <tbody>\n",
       "    <tr>\n",
       "      <th>88</th>\n",
       "      <td>88</td>\n",
       "      <td>70710067457</td>\n",
       "      <td>United States Embassy - Riga, Latvia</td>\n",
       "      <td>government</td>\n",
       "    </tr>\n",
       "    <tr>\n",
       "      <th>106</th>\n",
       "      <td>106</td>\n",
       "      <td>145794842231097</td>\n",
       "      <td>Chad Griffith - Lake Macquarie</td>\n",
       "      <td>politician</td>\n",
       "    </tr>\n",
       "    <tr>\n",
       "      <th>187</th>\n",
       "      <td>187</td>\n",
       "      <td>464998863536680</td>\n",
       "      <td>Bill Shorten MP</td>\n",
       "      <td>politician</td>\n",
       "    </tr>\n",
       "    <tr>\n",
       "      <th>197</th>\n",
       "      <td>197</td>\n",
       "      <td>1431984283714112</td>\n",
       "      <td>U.S. Forest Service</td>\n",
       "      <td>government</td>\n",
       "    </tr>\n",
       "    <tr>\n",
       "      <th>296</th>\n",
       "      <td>296</td>\n",
       "      <td>205572482794329</td>\n",
       "      <td>US National Weather Service Topeka Kansas</td>\n",
       "      <td>government</td>\n",
       "    </tr>\n",
       "    <tr>\n",
       "      <th>...</th>\n",
       "      <td>...</td>\n",
       "      <td>...</td>\n",
       "      <td>...</td>\n",
       "      <td>...</td>\n",
       "    </tr>\n",
       "    <tr>\n",
       "      <th>22404</th>\n",
       "      <td>22404</td>\n",
       "      <td>419314404818772</td>\n",
       "      <td>Christina Jantz-Herrmann</td>\n",
       "      <td>politician</td>\n",
       "    </tr>\n",
       "    <tr>\n",
       "      <th>22405</th>\n",
       "      <td>22405</td>\n",
       "      <td>60367306581</td>\n",
       "      <td>American Center New Delhi</td>\n",
       "      <td>government</td>\n",
       "    </tr>\n",
       "    <tr>\n",
       "      <th>22414</th>\n",
       "      <td>22414</td>\n",
       "      <td>720595767983984</td>\n",
       "      <td>Frank Junge</td>\n",
       "      <td>politician</td>\n",
       "    </tr>\n",
       "    <tr>\n",
       "      <th>22435</th>\n",
       "      <td>22435</td>\n",
       "      <td>120961761279906</td>\n",
       "      <td>Deborah O'Neill</td>\n",
       "      <td>politician</td>\n",
       "    </tr>\n",
       "    <tr>\n",
       "      <th>22460</th>\n",
       "      <td>22460</td>\n",
       "      <td>208741279137778</td>\n",
       "      <td>US National Weather Service Amarillo Texas</td>\n",
       "      <td>government</td>\n",
       "    </tr>\n",
       "  </tbody>\n",
       "</table>\n",
       "<p>707 rows × 4 columns</p>\n",
       "</div>"
      ],
      "text/plain": [
       "          id       facebook_id                                   page_name  \\\n",
       "88        88       70710067457        United States Embassy - Riga, Latvia   \n",
       "106      106   145794842231097              Chad Griffith - Lake Macquarie   \n",
       "187      187   464998863536680                             Bill Shorten MP   \n",
       "197      197  1431984283714112                         U.S. Forest Service   \n",
       "296      296   205572482794329   US National Weather Service Topeka Kansas   \n",
       "...      ...               ...                                         ...   \n",
       "22404  22404   419314404818772                    Christina Jantz-Herrmann   \n",
       "22405  22405       60367306581                   American Center New Delhi   \n",
       "22414  22414   720595767983984                                 Frank Junge   \n",
       "22435  22435   120961761279906                             Deborah O'Neill   \n",
       "22460  22460   208741279137778  US National Weather Service Amarillo Texas   \n",
       "\n",
       "        page_type  \n",
       "88     government  \n",
       "106    politician  \n",
       "187    politician  \n",
       "197    government  \n",
       "296    government  \n",
       "...           ...  \n",
       "22404  politician  \n",
       "22405  government  \n",
       "22414  politician  \n",
       "22435  politician  \n",
       "22460  government  \n",
       "\n",
       "[707 rows x 4 columns]"
      ]
     },
     "execution_count": 31,
     "metadata": {},
     "output_type": "execute_result"
    }
   ],
   "source": [
    "df[df['id'].isin(graph)]"
   ]
  },
  {
   "cell_type": "code",
   "execution_count": 32,
   "metadata": {},
   "outputs": [
    {
     "name": "stdout",
     "output_type": "stream",
     "text": [
      "Entropy of the densest subgraph: 0.8073970723241295\n"
     ]
    }
   ],
   "source": [
    "entropy=0\n",
    "for x in dense1.values():\n",
    "    entropy += -1*(x/sum(dense1.values()))*np.log(x/sum(dense1.values()))\n",
    "print(\"Entropy of the densest subgraph:\",entropy)"
   ]
  },
  {
   "cell_type": "markdown",
   "metadata": {},
   "source": [
    "### Peeling this densest subgraph from the graph"
   ]
  },
  {
   "cell_type": "code",
   "execution_count": 33,
   "metadata": {},
   "outputs": [],
   "source": [
    "edges_df = edges_df[~edges_df.isin(graph).any(axis=1)]"
   ]
  },
  {
   "cell_type": "markdown",
   "metadata": {},
   "source": [
    "## Iteration 4"
   ]
  },
  {
   "cell_type": "markdown",
   "metadata": {},
   "source": [
    "### Finding the densest subgraph in the remaining graph"
   ]
  },
  {
   "cell_type": "code",
   "execution_count": 34,
   "metadata": {},
   "outputs": [],
   "source": [
    "deg = {}\n",
    "neighbors = {}\n",
    "self_loops = {}\n",
    "\n",
    "for _, row in edges_df.iterrows():\n",
    "    if row['id_1'] == row['id_2']:\n",
    "        if row['id_1'] in self_loops:\n",
    "            self_loops[row['id_1']] += 1\n",
    "        else:\n",
    "            self_loops[row['id_1']] = 1\n",
    "\n",
    "    for node in ['id_1', 'id_2']:\n",
    "        if row[node] in deg:\n",
    "            deg[row[node]] += 1\n",
    "        else:\n",
    "            deg[row[node]] = 1\n",
    "\n",
    "    # Append to the neighbors list\n",
    "    if row['id_1'] in neighbors:\n",
    "        neighbors[row['id_1']].append(row['id_2'])\n",
    "    else:\n",
    "        neighbors[row['id_1']] = [row['id_2']]\n",
    "\n",
    "    if row['id_2'] in neighbors:\n",
    "        neighbors[row['id_2']].append(row['id_1'])\n",
    "    else:\n",
    "        neighbors[row['id_2']] = [row['id_1']]"
   ]
  },
  {
   "cell_type": "code",
   "execution_count": 35,
   "metadata": {},
   "outputs": [
    {
     "name": "stdout",
     "output_type": "stream",
     "text": [
      "Number of edges e(S,S) is: 108687.0\n",
      "The total number of vertices in the graph is: 21186\n",
      "Density of the full graph is 5.13013310676862\n"
     ]
    }
   ],
   "source": [
    "tot = sum(deg.values())/2\n",
    "print(\"Number of edges e(S,S) is:\",tot) # e(S,S)\n",
    "\n",
    "ctr = len(deg) # |S|\n",
    "total_vertices = ctr\n",
    "print(\"The total number of vertices in the graph is:\",total_vertices)\n",
    "\n",
    "density = [] # stores densities\n",
    "vertex = [] # vertex[0:i] (i included) contains vertices removed to achive density[i+1], i+1 as density[0] is for the full graph\n",
    "\n",
    "density.append(tot/total_vertices) # Density of the full graph\n",
    "print(\"Density of the full graph is\",density[0])"
   ]
  },
  {
   "cell_type": "code",
   "execution_count": 36,
   "metadata": {},
   "outputs": [
    {
     "name": "stdout",
     "output_type": "stream",
     "text": [
      "1000\n",
      "2000\n",
      "3000\n",
      "4000\n",
      "5000\n",
      "6000\n",
      "7000\n",
      "8000\n",
      "9000\n",
      "10000\n",
      "11000\n",
      "12000\n",
      "13000\n",
      "14000\n",
      "15000\n",
      "16000\n",
      "17000\n",
      "18000\n",
      "19000\n",
      "20000\n",
      "21000\n"
     ]
    }
   ],
   "source": [
    "i = 1\n",
    "while(ctr>1):\n",
    "    i+=1\n",
    "    if (i%1000==0): # Prints i to get an estimate of how much execution is done\n",
    "        print(i)\n",
    "    find_density_greedy()\n",
    "    if(tot != sum(deg.values())/2): # Checks for correctness\n",
    "        print(\"here\")"
   ]
  },
  {
   "cell_type": "code",
   "execution_count": 37,
   "metadata": {},
   "outputs": [
    {
     "name": "stdout",
     "output_type": "stream",
     "text": [
      "Densest subgraph has density: 16.980392156862745\n",
      "Number of nodes in the densest subgraph 51\n",
      "Node info: {'government': 51}\n"
     ]
    }
   ],
   "source": [
    "density = np.array(density)\n",
    "x = np.argmax(density)\n",
    "print(\"Densest subgraph has density:\",density[x])\n",
    "\n",
    "graph = []\n",
    "for i in list(neighbors.keys()):\n",
    "    if i not in vertex[:x]:\n",
    "        graph.append(i)\n",
    "print(\"Number of nodes in the densest subgraph\",len(graph))\n",
    "\n",
    "dense1 = {}\n",
    "for ver in graph:\n",
    "    type = df.loc[ver, 'page_type']\n",
    "    if(type in dense1.keys()):\n",
    "        dense1[type] += 1\n",
    "    else:\n",
    "        dense1[type] = 1\n",
    "\n",
    "print(\"Node info:\",dense1)"
   ]
  },
  {
   "cell_type": "markdown",
   "metadata": {},
   "source": [
    "### The densest subgraph is:"
   ]
  },
  {
   "cell_type": "code",
   "execution_count": 38,
   "metadata": {},
   "outputs": [
    {
     "data": {
      "text/html": [
       "<div>\n",
       "<style scoped>\n",
       "    .dataframe tbody tr th:only-of-type {\n",
       "        vertical-align: middle;\n",
       "    }\n",
       "\n",
       "    .dataframe tbody tr th {\n",
       "        vertical-align: top;\n",
       "    }\n",
       "\n",
       "    .dataframe thead th {\n",
       "        text-align: right;\n",
       "    }\n",
       "</style>\n",
       "<table border=\"1\" class=\"dataframe\">\n",
       "  <thead>\n",
       "    <tr style=\"text-align: right;\">\n",
       "      <th></th>\n",
       "      <th>id</th>\n",
       "      <th>facebook_id</th>\n",
       "      <th>page_name</th>\n",
       "      <th>page_type</th>\n",
       "    </tr>\n",
       "  </thead>\n",
       "  <tbody>\n",
       "    <tr>\n",
       "      <th>196</th>\n",
       "      <td>196</td>\n",
       "      <td>418893364920895</td>\n",
       "      <td>Préfet de Loir et Cher</td>\n",
       "      <td>government</td>\n",
       "    </tr>\n",
       "    <tr>\n",
       "      <th>478</th>\n",
       "      <td>478</td>\n",
       "      <td>1497254630524271</td>\n",
       "      <td>Préfet de la Saône-et-Loire</td>\n",
       "      <td>government</td>\n",
       "    </tr>\n",
       "    <tr>\n",
       "      <th>992</th>\n",
       "      <td>992</td>\n",
       "      <td>219953911434100</td>\n",
       "      <td>Préfet de l'Aisne</td>\n",
       "      <td>government</td>\n",
       "    </tr>\n",
       "    <tr>\n",
       "      <th>1503</th>\n",
       "      <td>1503</td>\n",
       "      <td>121386187886932</td>\n",
       "      <td>Préfecture de Police</td>\n",
       "      <td>government</td>\n",
       "    </tr>\n",
       "    <tr>\n",
       "      <th>1960</th>\n",
       "      <td>1960</td>\n",
       "      <td>105063419566358</td>\n",
       "      <td>Ministère des Sports</td>\n",
       "      <td>government</td>\n",
       "    </tr>\n",
       "    <tr>\n",
       "      <th>2405</th>\n",
       "      <td>2405</td>\n",
       "      <td>146054485530564</td>\n",
       "      <td>Ministère de la Cohésion des Territoires</td>\n",
       "      <td>government</td>\n",
       "    </tr>\n",
       "    <tr>\n",
       "      <th>2605</th>\n",
       "      <td>2605</td>\n",
       "      <td>149819368364622</td>\n",
       "      <td>Préfet de Meurthe-et-Moselle</td>\n",
       "      <td>government</td>\n",
       "    </tr>\n",
       "    <tr>\n",
       "      <th>2644</th>\n",
       "      <td>2644</td>\n",
       "      <td>505487189520312</td>\n",
       "      <td>Préfecture de la Guyane</td>\n",
       "      <td>government</td>\n",
       "    </tr>\n",
       "    <tr>\n",
       "      <th>3451</th>\n",
       "      <td>3451</td>\n",
       "      <td>202866606417783</td>\n",
       "      <td>Ministère de la Culture</td>\n",
       "      <td>government</td>\n",
       "    </tr>\n",
       "    <tr>\n",
       "      <th>3678</th>\n",
       "      <td>3678</td>\n",
       "      <td>133776633309674</td>\n",
       "      <td>Ministère des Outre-Mer</td>\n",
       "      <td>government</td>\n",
       "    </tr>\n",
       "    <tr>\n",
       "      <th>3705</th>\n",
       "      <td>3705</td>\n",
       "      <td>103146727990</td>\n",
       "      <td>Ministère de l'intérieur</td>\n",
       "      <td>government</td>\n",
       "    </tr>\n",
       "    <tr>\n",
       "      <th>4071</th>\n",
       "      <td>4071</td>\n",
       "      <td>119095054839458</td>\n",
       "      <td>Éducation nationale</td>\n",
       "      <td>government</td>\n",
       "    </tr>\n",
       "    <tr>\n",
       "      <th>4420</th>\n",
       "      <td>4420</td>\n",
       "      <td>158153034248900</td>\n",
       "      <td>Gendarmerie nationale</td>\n",
       "      <td>government</td>\n",
       "    </tr>\n",
       "    <tr>\n",
       "      <th>4483</th>\n",
       "      <td>4483</td>\n",
       "      <td>142545499272060</td>\n",
       "      <td>Préfet de l'Indre</td>\n",
       "      <td>government</td>\n",
       "    </tr>\n",
       "    <tr>\n",
       "      <th>4843</th>\n",
       "      <td>4843</td>\n",
       "      <td>442720149125040</td>\n",
       "      <td>Préfet de l'Yonne</td>\n",
       "      <td>government</td>\n",
       "    </tr>\n",
       "    <tr>\n",
       "      <th>5496</th>\n",
       "      <td>5496</td>\n",
       "      <td>127027683999474</td>\n",
       "      <td>Ministère des Armées</td>\n",
       "      <td>government</td>\n",
       "    </tr>\n",
       "    <tr>\n",
       "      <th>5562</th>\n",
       "      <td>5562</td>\n",
       "      <td>328227120690505</td>\n",
       "      <td>Ministère du travail</td>\n",
       "      <td>government</td>\n",
       "    </tr>\n",
       "    <tr>\n",
       "      <th>5580</th>\n",
       "      <td>5580</td>\n",
       "      <td>749519435183443</td>\n",
       "      <td>Préfet de la Vendée</td>\n",
       "      <td>government</td>\n",
       "    </tr>\n",
       "    <tr>\n",
       "      <th>5975</th>\n",
       "      <td>5975</td>\n",
       "      <td>708176772547698</td>\n",
       "      <td>Préfet de la Moselle</td>\n",
       "      <td>government</td>\n",
       "    </tr>\n",
       "    <tr>\n",
       "      <th>6313</th>\n",
       "      <td>6313</td>\n",
       "      <td>127290237339717</td>\n",
       "      <td>Préfet des Hauts-de-Seine</td>\n",
       "      <td>government</td>\n",
       "    </tr>\n",
       "    <tr>\n",
       "      <th>6608</th>\n",
       "      <td>6608</td>\n",
       "      <td>455210517875646</td>\n",
       "      <td>Préfet de la Savoie</td>\n",
       "      <td>government</td>\n",
       "    </tr>\n",
       "    <tr>\n",
       "      <th>7362</th>\n",
       "      <td>7362</td>\n",
       "      <td>75042608259</td>\n",
       "      <td>France Diplomatie</td>\n",
       "      <td>government</td>\n",
       "    </tr>\n",
       "    <tr>\n",
       "      <th>7634</th>\n",
       "      <td>7634</td>\n",
       "      <td>373774399461310</td>\n",
       "      <td>Préfet de l' Eure</td>\n",
       "      <td>government</td>\n",
       "    </tr>\n",
       "    <tr>\n",
       "      <th>7750</th>\n",
       "      <td>7750</td>\n",
       "      <td>478207629023485</td>\n",
       "      <td>Préfet d'Indre-et-Loire</td>\n",
       "      <td>government</td>\n",
       "    </tr>\n",
       "    <tr>\n",
       "      <th>8691</th>\n",
       "      <td>8691</td>\n",
       "      <td>1551469498491873</td>\n",
       "      <td>Préfet de l'Orne</td>\n",
       "      <td>government</td>\n",
       "    </tr>\n",
       "    <tr>\n",
       "      <th>9731</th>\n",
       "      <td>9731</td>\n",
       "      <td>1460362670862264</td>\n",
       "      <td>Préfet de la Meuse</td>\n",
       "      <td>government</td>\n",
       "    </tr>\n",
       "    <tr>\n",
       "      <th>10553</th>\n",
       "      <td>10553</td>\n",
       "      <td>106264752847080</td>\n",
       "      <td>Préfet du Haut-Rhin</td>\n",
       "      <td>government</td>\n",
       "    </tr>\n",
       "    <tr>\n",
       "      <th>11166</th>\n",
       "      <td>11166</td>\n",
       "      <td>345155968963099</td>\n",
       "      <td>Préfet du Calvados</td>\n",
       "      <td>government</td>\n",
       "    </tr>\n",
       "    <tr>\n",
       "      <th>11266</th>\n",
       "      <td>11266</td>\n",
       "      <td>259978937401589</td>\n",
       "      <td>Police Nationale</td>\n",
       "      <td>government</td>\n",
       "    </tr>\n",
       "    <tr>\n",
       "      <th>11895</th>\n",
       "      <td>11895</td>\n",
       "      <td>288095748065361</td>\n",
       "      <td>Préfet de la région Grand Est</td>\n",
       "      <td>government</td>\n",
       "    </tr>\n",
       "    <tr>\n",
       "      <th>12039</th>\n",
       "      <td>12039</td>\n",
       "      <td>199288916446</td>\n",
       "      <td>Ministère de l'Économie et des Finances, de l'...</td>\n",
       "      <td>government</td>\n",
       "    </tr>\n",
       "    <tr>\n",
       "      <th>12183</th>\n",
       "      <td>12183</td>\n",
       "      <td>217440228379539</td>\n",
       "      <td>Secrétariat d'Etat en charge de l’égalité des ...</td>\n",
       "      <td>government</td>\n",
       "    </tr>\n",
       "    <tr>\n",
       "      <th>12698</th>\n",
       "      <td>12698</td>\n",
       "      <td>129336593781059</td>\n",
       "      <td>Alim'agri</td>\n",
       "      <td>government</td>\n",
       "    </tr>\n",
       "    <tr>\n",
       "      <th>13478</th>\n",
       "      <td>13478</td>\n",
       "      <td>1111523712277161</td>\n",
       "      <td>Préfet du Val-d'Oise</td>\n",
       "      <td>government</td>\n",
       "    </tr>\n",
       "    <tr>\n",
       "      <th>13929</th>\n",
       "      <td>13929</td>\n",
       "      <td>196708717010864</td>\n",
       "      <td>Ministère de la Justice</td>\n",
       "      <td>government</td>\n",
       "    </tr>\n",
       "    <tr>\n",
       "      <th>15317</th>\n",
       "      <td>15317</td>\n",
       "      <td>352919778209784</td>\n",
       "      <td>Préfet des Pyrénées-Orientales</td>\n",
       "      <td>government</td>\n",
       "    </tr>\n",
       "    <tr>\n",
       "      <th>15506</th>\n",
       "      <td>15506</td>\n",
       "      <td>453120874820127</td>\n",
       "      <td>Préfet de la Nièvre</td>\n",
       "      <td>government</td>\n",
       "    </tr>\n",
       "    <tr>\n",
       "      <th>16028</th>\n",
       "      <td>16028</td>\n",
       "      <td>1735627153323957</td>\n",
       "      <td>Préfet de la Charente-Maritime</td>\n",
       "      <td>government</td>\n",
       "    </tr>\n",
       "    <tr>\n",
       "      <th>16153</th>\n",
       "      <td>16153</td>\n",
       "      <td>341942132652310</td>\n",
       "      <td>Ministère des solidarités et de la santé</td>\n",
       "      <td>government</td>\n",
       "    </tr>\n",
       "    <tr>\n",
       "      <th>17321</th>\n",
       "      <td>17321</td>\n",
       "      <td>1418316921785270</td>\n",
       "      <td>Préfet de l'Hérault</td>\n",
       "      <td>government</td>\n",
       "    </tr>\n",
       "    <tr>\n",
       "      <th>17389</th>\n",
       "      <td>17389</td>\n",
       "      <td>518567698155284</td>\n",
       "      <td>Préfecture de l'Aude</td>\n",
       "      <td>government</td>\n",
       "    </tr>\n",
       "    <tr>\n",
       "      <th>17423</th>\n",
       "      <td>17423</td>\n",
       "      <td>572798699423608</td>\n",
       "      <td>Préfet du Cantal</td>\n",
       "      <td>government</td>\n",
       "    </tr>\n",
       "    <tr>\n",
       "      <th>18126</th>\n",
       "      <td>18126</td>\n",
       "      <td>487538048028520</td>\n",
       "      <td>Préfet de la Corrèze</td>\n",
       "      <td>government</td>\n",
       "    </tr>\n",
       "    <tr>\n",
       "      <th>18701</th>\n",
       "      <td>18701</td>\n",
       "      <td>367606183351737</td>\n",
       "      <td>Préfet de la Creuse</td>\n",
       "      <td>government</td>\n",
       "    </tr>\n",
       "    <tr>\n",
       "      <th>19632</th>\n",
       "      <td>19632</td>\n",
       "      <td>218706774974536</td>\n",
       "      <td>Préfet de Bretagne et d'Ille et Vilaine</td>\n",
       "      <td>government</td>\n",
       "    </tr>\n",
       "    <tr>\n",
       "      <th>19767</th>\n",
       "      <td>19767</td>\n",
       "      <td>158609180861860</td>\n",
       "      <td>Ministère de la Transition écologique et solid...</td>\n",
       "      <td>government</td>\n",
       "    </tr>\n",
       "    <tr>\n",
       "      <th>19844</th>\n",
       "      <td>19844</td>\n",
       "      <td>122514087797439</td>\n",
       "      <td>Préfet de l'Oise</td>\n",
       "      <td>government</td>\n",
       "    </tr>\n",
       "    <tr>\n",
       "      <th>20444</th>\n",
       "      <td>20444</td>\n",
       "      <td>1620614304885094</td>\n",
       "      <td>Préfet de l'Aveyron</td>\n",
       "      <td>government</td>\n",
       "    </tr>\n",
       "    <tr>\n",
       "      <th>20699</th>\n",
       "      <td>20699</td>\n",
       "      <td>871987999582060</td>\n",
       "      <td>Préfète des Hautes-Alpes</td>\n",
       "      <td>government</td>\n",
       "    </tr>\n",
       "    <tr>\n",
       "      <th>21599</th>\n",
       "      <td>21599</td>\n",
       "      <td>271632596203180</td>\n",
       "      <td>Préfet de la Manche</td>\n",
       "      <td>government</td>\n",
       "    </tr>\n",
       "    <tr>\n",
       "      <th>22041</th>\n",
       "      <td>22041</td>\n",
       "      <td>360538020772775</td>\n",
       "      <td>Préfet des Hautes-Pyrénées</td>\n",
       "      <td>government</td>\n",
       "    </tr>\n",
       "  </tbody>\n",
       "</table>\n",
       "</div>"
      ],
      "text/plain": [
       "          id       facebook_id  \\\n",
       "196      196   418893364920895   \n",
       "478      478  1497254630524271   \n",
       "992      992   219953911434100   \n",
       "1503    1503   121386187886932   \n",
       "1960    1960   105063419566358   \n",
       "2405    2405   146054485530564   \n",
       "2605    2605   149819368364622   \n",
       "2644    2644   505487189520312   \n",
       "3451    3451   202866606417783   \n",
       "3678    3678   133776633309674   \n",
       "3705    3705      103146727990   \n",
       "4071    4071   119095054839458   \n",
       "4420    4420   158153034248900   \n",
       "4483    4483   142545499272060   \n",
       "4843    4843   442720149125040   \n",
       "5496    5496   127027683999474   \n",
       "5562    5562   328227120690505   \n",
       "5580    5580   749519435183443   \n",
       "5975    5975   708176772547698   \n",
       "6313    6313   127290237339717   \n",
       "6608    6608   455210517875646   \n",
       "7362    7362       75042608259   \n",
       "7634    7634   373774399461310   \n",
       "7750    7750   478207629023485   \n",
       "8691    8691  1551469498491873   \n",
       "9731    9731  1460362670862264   \n",
       "10553  10553   106264752847080   \n",
       "11166  11166   345155968963099   \n",
       "11266  11266   259978937401589   \n",
       "11895  11895   288095748065361   \n",
       "12039  12039      199288916446   \n",
       "12183  12183   217440228379539   \n",
       "12698  12698   129336593781059   \n",
       "13478  13478  1111523712277161   \n",
       "13929  13929   196708717010864   \n",
       "15317  15317   352919778209784   \n",
       "15506  15506   453120874820127   \n",
       "16028  16028  1735627153323957   \n",
       "16153  16153   341942132652310   \n",
       "17321  17321  1418316921785270   \n",
       "17389  17389   518567698155284   \n",
       "17423  17423   572798699423608   \n",
       "18126  18126   487538048028520   \n",
       "18701  18701   367606183351737   \n",
       "19632  19632   218706774974536   \n",
       "19767  19767   158609180861860   \n",
       "19844  19844   122514087797439   \n",
       "20444  20444  1620614304885094   \n",
       "20699  20699   871987999582060   \n",
       "21599  21599   271632596203180   \n",
       "22041  22041   360538020772775   \n",
       "\n",
       "                                               page_name   page_type  \n",
       "196                               Préfet de Loir et Cher  government  \n",
       "478                          Préfet de la Saône-et-Loire  government  \n",
       "992                                    Préfet de l'Aisne  government  \n",
       "1503                                Préfecture de Police  government  \n",
       "1960                                Ministère des Sports  government  \n",
       "2405            Ministère de la Cohésion des Territoires  government  \n",
       "2605                        Préfet de Meurthe-et-Moselle  government  \n",
       "2644                             Préfecture de la Guyane  government  \n",
       "3451                             Ministère de la Culture  government  \n",
       "3678                             Ministère des Outre-Mer  government  \n",
       "3705                            Ministère de l'intérieur  government  \n",
       "4071                                 Éducation nationale  government  \n",
       "4420                               Gendarmerie nationale  government  \n",
       "4483                                   Préfet de l'Indre  government  \n",
       "4843                                   Préfet de l'Yonne  government  \n",
       "5496                                Ministère des Armées  government  \n",
       "5562                                Ministère du travail  government  \n",
       "5580                                 Préfet de la Vendée  government  \n",
       "5975                                Préfet de la Moselle  government  \n",
       "6313                           Préfet des Hauts-de-Seine  government  \n",
       "6608                                 Préfet de la Savoie  government  \n",
       "7362                                   France Diplomatie  government  \n",
       "7634                                   Préfet de l' Eure  government  \n",
       "7750                             Préfet d'Indre-et-Loire  government  \n",
       "8691                                    Préfet de l'Orne  government  \n",
       "9731                                  Préfet de la Meuse  government  \n",
       "10553                                Préfet du Haut-Rhin  government  \n",
       "11166                                 Préfet du Calvados  government  \n",
       "11266                                   Police Nationale  government  \n",
       "11895                      Préfet de la région Grand Est  government  \n",
       "12039  Ministère de l'Économie et des Finances, de l'...  government  \n",
       "12183  Secrétariat d'Etat en charge de l’égalité des ...  government  \n",
       "12698                                          Alim'agri  government  \n",
       "13478                               Préfet du Val-d'Oise  government  \n",
       "13929                            Ministère de la Justice  government  \n",
       "15317                     Préfet des Pyrénées-Orientales  government  \n",
       "15506                                Préfet de la Nièvre  government  \n",
       "16028                     Préfet de la Charente-Maritime  government  \n",
       "16153           Ministère des solidarités et de la santé  government  \n",
       "17321                                Préfet de l'Hérault  government  \n",
       "17389                               Préfecture de l'Aude  government  \n",
       "17423                                   Préfet du Cantal  government  \n",
       "18126                               Préfet de la Corrèze  government  \n",
       "18701                                Préfet de la Creuse  government  \n",
       "19632            Préfet de Bretagne et d'Ille et Vilaine  government  \n",
       "19767  Ministère de la Transition écologique et solid...  government  \n",
       "19844                                   Préfet de l'Oise  government  \n",
       "20444                                Préfet de l'Aveyron  government  \n",
       "20699                           Préfète des Hautes-Alpes  government  \n",
       "21599                                Préfet de la Manche  government  \n",
       "22041                         Préfet des Hautes-Pyrénées  government  "
      ]
     },
     "execution_count": 38,
     "metadata": {},
     "output_type": "execute_result"
    }
   ],
   "source": [
    "df[df['id'].isin(graph)]"
   ]
  },
  {
   "cell_type": "code",
   "execution_count": 39,
   "metadata": {},
   "outputs": [
    {
     "name": "stdout",
     "output_type": "stream",
     "text": [
      "Entropy of the densest subgraph: 0.0\n"
     ]
    }
   ],
   "source": [
    "entropy=0\n",
    "for x in dense1.values():\n",
    "    entropy += -1*(x/sum(dense1.values()))*np.log(x/sum(dense1.values()))\n",
    "print(\"Entropy of the densest subgraph:\",entropy)"
   ]
  },
  {
   "cell_type": "markdown",
   "metadata": {},
   "source": [
    "### Peeling this densest subgraph from the graph"
   ]
  },
  {
   "cell_type": "code",
   "execution_count": 40,
   "metadata": {},
   "outputs": [],
   "source": [
    "edges_df = edges_df[~edges_df.isin(graph).any(axis=1)]"
   ]
  },
  {
   "cell_type": "markdown",
   "metadata": {},
   "source": [
    "## Iteration 5"
   ]
  },
  {
   "cell_type": "markdown",
   "metadata": {},
   "source": [
    "### Finding the densest subgraph in the remaining graph"
   ]
  },
  {
   "cell_type": "code",
   "execution_count": 41,
   "metadata": {},
   "outputs": [],
   "source": [
    "deg = {}\n",
    "neighbors = {}\n",
    "self_loops = {}\n",
    "\n",
    "for _, row in edges_df.iterrows():\n",
    "    if row['id_1'] == row['id_2']:\n",
    "        if row['id_1'] in self_loops:\n",
    "            self_loops[row['id_1']] += 1\n",
    "        else:\n",
    "            self_loops[row['id_1']] = 1\n",
    "\n",
    "    for node in ['id_1', 'id_2']:\n",
    "        if row[node] in deg:\n",
    "            deg[row[node]] += 1\n",
    "        else:\n",
    "            deg[row[node]] = 1\n",
    "\n",
    "    # Append to the neighbors list\n",
    "    if row['id_1'] in neighbors:\n",
    "        neighbors[row['id_1']].append(row['id_2'])\n",
    "    else:\n",
    "        neighbors[row['id_1']] = [row['id_2']]\n",
    "\n",
    "    if row['id_2'] in neighbors:\n",
    "        neighbors[row['id_2']].append(row['id_1'])\n",
    "    else:\n",
    "        neighbors[row['id_2']] = [row['id_1']]"
   ]
  },
  {
   "cell_type": "code",
   "execution_count": 42,
   "metadata": {},
   "outputs": [
    {
     "name": "stdout",
     "output_type": "stream",
     "text": [
      "Number of edges e(S,S) is: 106801.0\n",
      "The total number of vertices in the graph is: 21129\n",
      "Density of the full graph is 5.054711533910739\n"
     ]
    }
   ],
   "source": [
    "tot = sum(deg.values())/2\n",
    "print(\"Number of edges e(S,S) is:\",tot) # e(S,S)\n",
    "\n",
    "ctr = len(deg) # |S|\n",
    "total_vertices = ctr\n",
    "print(\"The total number of vertices in the graph is:\",total_vertices)\n",
    "\n",
    "density = [] # stores densities\n",
    "vertex = [] # vertex[0:i] (i included) contains vertices removed to achive density[i+1], i+1 as density[0] is for the full graph\n",
    "\n",
    "density.append(tot/total_vertices) # Density of the full graph\n",
    "print(\"Density of the full graph is\",density[0])"
   ]
  },
  {
   "cell_type": "code",
   "execution_count": 43,
   "metadata": {},
   "outputs": [
    {
     "name": "stdout",
     "output_type": "stream",
     "text": [
      "1000\n",
      "2000\n",
      "3000\n",
      "4000\n",
      "5000\n",
      "6000\n",
      "7000\n",
      "8000\n",
      "9000\n",
      "10000\n",
      "11000\n",
      "12000\n",
      "13000\n",
      "14000\n",
      "15000\n",
      "16000\n",
      "17000\n",
      "18000\n",
      "19000\n",
      "20000\n",
      "21000\n"
     ]
    }
   ],
   "source": [
    "i = 1\n",
    "while(ctr>1):\n",
    "    i+=1\n",
    "    if (i%1000==0): # Prints i to get an estimate of how much execution is done\n",
    "        print(i)\n",
    "    find_density_greedy()\n",
    "    if(tot != sum(deg.values())/2): # Checks for correctness\n",
    "        print(\"here\")"
   ]
  },
  {
   "cell_type": "code",
   "execution_count": 44,
   "metadata": {},
   "outputs": [
    {
     "name": "stdout",
     "output_type": "stream",
     "text": [
      "Densest subgraph has density: 16.004\n",
      "Number of nodes in the densest subgraph 250\n",
      "Node info: {'politician': 173, 'government': 77}\n"
     ]
    }
   ],
   "source": [
    "density = np.array(density)\n",
    "x = np.argmax(density)\n",
    "print(\"Densest subgraph has density:\",density[x])\n",
    "\n",
    "graph = []\n",
    "for i in list(neighbors.keys()):\n",
    "    if i not in vertex[:x]:\n",
    "        graph.append(i)\n",
    "print(\"Number of nodes in the densest subgraph\",len(graph))\n",
    "\n",
    "dense1 = {}\n",
    "for ver in graph:\n",
    "    type = df.loc[ver, 'page_type']\n",
    "    if(type in dense1.keys()):\n",
    "        dense1[type] += 1\n",
    "    else:\n",
    "        dense1[type] = 1\n",
    "\n",
    "print(\"Node info:\",dense1)"
   ]
  },
  {
   "cell_type": "markdown",
   "metadata": {},
   "source": [
    "### The densest subgraph is:"
   ]
  },
  {
   "cell_type": "code",
   "execution_count": 45,
   "metadata": {},
   "outputs": [
    {
     "data": {
      "text/html": [
       "<div>\n",
       "<style scoped>\n",
       "    .dataframe tbody tr th:only-of-type {\n",
       "        vertical-align: middle;\n",
       "    }\n",
       "\n",
       "    .dataframe tbody tr th {\n",
       "        vertical-align: top;\n",
       "    }\n",
       "\n",
       "    .dataframe thead th {\n",
       "        text-align: right;\n",
       "    }\n",
       "</style>\n",
       "<table border=\"1\" class=\"dataframe\">\n",
       "  <thead>\n",
       "    <tr style=\"text-align: right;\">\n",
       "      <th></th>\n",
       "      <th>id</th>\n",
       "      <th>facebook_id</th>\n",
       "      <th>page_name</th>\n",
       "      <th>page_type</th>\n",
       "    </tr>\n",
       "  </thead>\n",
       "  <tbody>\n",
       "    <tr>\n",
       "      <th>113</th>\n",
       "      <td>113</td>\n",
       "      <td>404948826259784</td>\n",
       "      <td>Senator James McGrath</td>\n",
       "      <td>politician</td>\n",
       "    </tr>\n",
       "    <tr>\n",
       "      <th>290</th>\n",
       "      <td>290</td>\n",
       "      <td>568839896564552</td>\n",
       "      <td>Marie-Claude Bibeau</td>\n",
       "      <td>politician</td>\n",
       "    </tr>\n",
       "    <tr>\n",
       "      <th>321</th>\n",
       "      <td>321</td>\n",
       "      <td>325227794269092</td>\n",
       "      <td>Rachael Harder, MP</td>\n",
       "      <td>politician</td>\n",
       "    </tr>\n",
       "    <tr>\n",
       "      <th>702</th>\n",
       "      <td>702</td>\n",
       "      <td>6229329915</td>\n",
       "      <td>Rodger Cuzner</td>\n",
       "      <td>politician</td>\n",
       "    </tr>\n",
       "    <tr>\n",
       "      <th>721</th>\n",
       "      <td>721</td>\n",
       "      <td>744295609010223</td>\n",
       "      <td>Murray Thompson MP</td>\n",
       "      <td>politician</td>\n",
       "    </tr>\n",
       "    <tr>\n",
       "      <th>...</th>\n",
       "      <td>...</td>\n",
       "      <td>...</td>\n",
       "      <td>...</td>\n",
       "      <td>...</td>\n",
       "    </tr>\n",
       "    <tr>\n",
       "      <th>22023</th>\n",
       "      <td>22023</td>\n",
       "      <td>267377223346665</td>\n",
       "      <td>Ministério de Minas e Energia</td>\n",
       "      <td>government</td>\n",
       "    </tr>\n",
       "    <tr>\n",
       "      <th>22025</th>\n",
       "      <td>22025</td>\n",
       "      <td>346272215464826</td>\n",
       "      <td>Erin O'Toole</td>\n",
       "      <td>politician</td>\n",
       "    </tr>\n",
       "    <tr>\n",
       "      <th>22084</th>\n",
       "      <td>22084</td>\n",
       "      <td>116868855036962</td>\n",
       "      <td>Craig Ondarchie MP</td>\n",
       "      <td>politician</td>\n",
       "    </tr>\n",
       "    <tr>\n",
       "      <th>22403</th>\n",
       "      <td>22403</td>\n",
       "      <td>6172639058</td>\n",
       "      <td>Dr. Hedy Fry</td>\n",
       "      <td>politician</td>\n",
       "    </tr>\n",
       "    <tr>\n",
       "      <th>22423</th>\n",
       "      <td>22423</td>\n",
       "      <td>141464772668758</td>\n",
       "      <td>Australia in Thailand</td>\n",
       "      <td>government</td>\n",
       "    </tr>\n",
       "  </tbody>\n",
       "</table>\n",
       "<p>250 rows × 4 columns</p>\n",
       "</div>"
      ],
      "text/plain": [
       "          id      facebook_id                      page_name   page_type\n",
       "113      113  404948826259784          Senator James McGrath  politician\n",
       "290      290  568839896564552            Marie-Claude Bibeau  politician\n",
       "321      321  325227794269092             Rachael Harder, MP  politician\n",
       "702      702       6229329915                  Rodger Cuzner  politician\n",
       "721      721  744295609010223             Murray Thompson MP  politician\n",
       "...      ...              ...                            ...         ...\n",
       "22023  22023  267377223346665  Ministério de Minas e Energia  government\n",
       "22025  22025  346272215464826                   Erin O'Toole  politician\n",
       "22084  22084  116868855036962             Craig Ondarchie MP  politician\n",
       "22403  22403       6172639058                   Dr. Hedy Fry  politician\n",
       "22423  22423  141464772668758          Australia in Thailand  government\n",
       "\n",
       "[250 rows x 4 columns]"
      ]
     },
     "execution_count": 45,
     "metadata": {},
     "output_type": "execute_result"
    }
   ],
   "source": [
    "df[df['id'].isin(graph)]"
   ]
  },
  {
   "cell_type": "code",
   "execution_count": 46,
   "metadata": {},
   "outputs": [
    {
     "name": "stdout",
     "output_type": "stream",
     "text": [
      "Entropy of the densest subgraph: 0.6174910645388487\n"
     ]
    }
   ],
   "source": [
    "entropy=0\n",
    "for x in dense1.values():\n",
    "    entropy += -1*(x/sum(dense1.values()))*np.log(x/sum(dense1.values()))\n",
    "print(\"Entropy of the densest subgraph:\",entropy)"
   ]
  }
 ],
 "metadata": {
  "kernelspec": {
   "display_name": "Python 3",
   "language": "python",
   "name": "python3"
  },
  "language_info": {
   "codemirror_mode": {
    "name": "ipython",
    "version": 3
   },
   "file_extension": ".py",
   "mimetype": "text/x-python",
   "name": "python",
   "nbconvert_exporter": "python",
   "pygments_lexer": "ipython3",
   "version": "3.10.12"
  }
 },
 "nbformat": 4,
 "nbformat_minor": 2
}
