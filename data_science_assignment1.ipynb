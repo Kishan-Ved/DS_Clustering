{
 "cells": [
  {
   "cell_type": "markdown",
   "metadata": {},
   "source": [
    "# Density based clustering the Facebook graph\n",
    "Kishan Ved\n",
    "\n",
    "22110122"
   ]
  },
  {
   "cell_type": "markdown",
   "metadata": {},
   "source": [
    "### Import the dataframe"
   ]
  },
  {
   "cell_type": "code",
   "execution_count": 727,
   "metadata": {},
   "outputs": [
    {
     "data": {
      "text/html": [
       "<div>\n",
       "<style scoped>\n",
       "    .dataframe tbody tr th:only-of-type {\n",
       "        vertical-align: middle;\n",
       "    }\n",
       "\n",
       "    .dataframe tbody tr th {\n",
       "        vertical-align: top;\n",
       "    }\n",
       "\n",
       "    .dataframe thead th {\n",
       "        text-align: right;\n",
       "    }\n",
       "</style>\n",
       "<table border=\"1\" class=\"dataframe\">\n",
       "  <thead>\n",
       "    <tr style=\"text-align: right;\">\n",
       "      <th></th>\n",
       "      <th>id</th>\n",
       "      <th>facebook_id</th>\n",
       "      <th>page_name</th>\n",
       "      <th>page_type</th>\n",
       "    </tr>\n",
       "  </thead>\n",
       "  <tbody>\n",
       "    <tr>\n",
       "      <th>0</th>\n",
       "      <td>0</td>\n",
       "      <td>145647315578475</td>\n",
       "      <td>The Voice of China 中国好声音</td>\n",
       "      <td>tvshow</td>\n",
       "    </tr>\n",
       "    <tr>\n",
       "      <th>1</th>\n",
       "      <td>1</td>\n",
       "      <td>191483281412</td>\n",
       "      <td>U.S. Consulate General Mumbai</td>\n",
       "      <td>government</td>\n",
       "    </tr>\n",
       "    <tr>\n",
       "      <th>2</th>\n",
       "      <td>2</td>\n",
       "      <td>144761358898518</td>\n",
       "      <td>ESET</td>\n",
       "      <td>company</td>\n",
       "    </tr>\n",
       "    <tr>\n",
       "      <th>3</th>\n",
       "      <td>3</td>\n",
       "      <td>568700043198473</td>\n",
       "      <td>Consulate General of Switzerland in Montreal</td>\n",
       "      <td>government</td>\n",
       "    </tr>\n",
       "    <tr>\n",
       "      <th>4</th>\n",
       "      <td>4</td>\n",
       "      <td>1408935539376139</td>\n",
       "      <td>Mark Bailey MP - Labor for Miller</td>\n",
       "      <td>politician</td>\n",
       "    </tr>\n",
       "    <tr>\n",
       "      <th>...</th>\n",
       "      <td>...</td>\n",
       "      <td>...</td>\n",
       "      <td>...</td>\n",
       "      <td>...</td>\n",
       "    </tr>\n",
       "    <tr>\n",
       "      <th>22465</th>\n",
       "      <td>22465</td>\n",
       "      <td>1379955382222841</td>\n",
       "      <td>Kurt Wiegel MdL</td>\n",
       "      <td>politician</td>\n",
       "    </tr>\n",
       "    <tr>\n",
       "      <th>22466</th>\n",
       "      <td>22466</td>\n",
       "      <td>1651527995097082</td>\n",
       "      <td>dubdub Stories</td>\n",
       "      <td>company</td>\n",
       "    </tr>\n",
       "    <tr>\n",
       "      <th>22467</th>\n",
       "      <td>22467</td>\n",
       "      <td>155369444540412</td>\n",
       "      <td>Ministerio del Interior - Paraguay</td>\n",
       "      <td>government</td>\n",
       "    </tr>\n",
       "    <tr>\n",
       "      <th>22468</th>\n",
       "      <td>22468</td>\n",
       "      <td>175067819212798</td>\n",
       "      <td>Tottus Perú</td>\n",
       "      <td>company</td>\n",
       "    </tr>\n",
       "    <tr>\n",
       "      <th>22469</th>\n",
       "      <td>22469</td>\n",
       "      <td>27208897877</td>\n",
       "      <td>SPORT1 Doppelpass</td>\n",
       "      <td>tvshow</td>\n",
       "    </tr>\n",
       "  </tbody>\n",
       "</table>\n",
       "<p>22470 rows × 4 columns</p>\n",
       "</div>"
      ],
      "text/plain": [
       "          id       facebook_id                                     page_name  \\\n",
       "0          0   145647315578475                      The Voice of China 中国好声音   \n",
       "1          1      191483281412                 U.S. Consulate General Mumbai   \n",
       "2          2   144761358898518                                          ESET   \n",
       "3          3   568700043198473  Consulate General of Switzerland in Montreal   \n",
       "4          4  1408935539376139             Mark Bailey MP - Labor for Miller   \n",
       "...      ...               ...                                           ...   \n",
       "22465  22465  1379955382222841                               Kurt Wiegel MdL   \n",
       "22466  22466  1651527995097082                                dubdub Stories   \n",
       "22467  22467   155369444540412            Ministerio del Interior - Paraguay   \n",
       "22468  22468   175067819212798                                   Tottus Perú   \n",
       "22469  22469       27208897877                             SPORT1 Doppelpass   \n",
       "\n",
       "        page_type  \n",
       "0          tvshow  \n",
       "1      government  \n",
       "2         company  \n",
       "3      government  \n",
       "4      politician  \n",
       "...           ...  \n",
       "22465  politician  \n",
       "22466     company  \n",
       "22467  government  \n",
       "22468     company  \n",
       "22469      tvshow  \n",
       "\n",
       "[22470 rows x 4 columns]"
      ]
     },
     "execution_count": 727,
     "metadata": {},
     "output_type": "execute_result"
    }
   ],
   "source": [
    "import pandas as pd\n",
    "import numpy as np\n",
    "\n",
    "df = pd.read_csv('musae_facebook_target.csv');\n",
    "df"
   ]
  },
  {
   "cell_type": "markdown",
   "metadata": {},
   "source": [
    "### Import the edges"
   ]
  },
  {
   "cell_type": "code",
   "execution_count": 728,
   "metadata": {},
   "outputs": [
    {
     "data": {
      "text/html": [
       "<div>\n",
       "<style scoped>\n",
       "    .dataframe tbody tr th:only-of-type {\n",
       "        vertical-align: middle;\n",
       "    }\n",
       "\n",
       "    .dataframe tbody tr th {\n",
       "        vertical-align: top;\n",
       "    }\n",
       "\n",
       "    .dataframe thead th {\n",
       "        text-align: right;\n",
       "    }\n",
       "</style>\n",
       "<table border=\"1\" class=\"dataframe\">\n",
       "  <thead>\n",
       "    <tr style=\"text-align: right;\">\n",
       "      <th></th>\n",
       "      <th>id_1</th>\n",
       "      <th>id_2</th>\n",
       "    </tr>\n",
       "  </thead>\n",
       "  <tbody>\n",
       "    <tr>\n",
       "      <th>0</th>\n",
       "      <td>0</td>\n",
       "      <td>18427</td>\n",
       "    </tr>\n",
       "    <tr>\n",
       "      <th>1</th>\n",
       "      <td>1</td>\n",
       "      <td>21708</td>\n",
       "    </tr>\n",
       "    <tr>\n",
       "      <th>2</th>\n",
       "      <td>1</td>\n",
       "      <td>22208</td>\n",
       "    </tr>\n",
       "    <tr>\n",
       "      <th>3</th>\n",
       "      <td>1</td>\n",
       "      <td>22171</td>\n",
       "    </tr>\n",
       "    <tr>\n",
       "      <th>4</th>\n",
       "      <td>1</td>\n",
       "      <td>6829</td>\n",
       "    </tr>\n",
       "    <tr>\n",
       "      <th>...</th>\n",
       "      <td>...</td>\n",
       "      <td>...</td>\n",
       "    </tr>\n",
       "    <tr>\n",
       "      <th>170997</th>\n",
       "      <td>20188</td>\n",
       "      <td>20188</td>\n",
       "    </tr>\n",
       "    <tr>\n",
       "      <th>170998</th>\n",
       "      <td>22340</td>\n",
       "      <td>22383</td>\n",
       "    </tr>\n",
       "    <tr>\n",
       "      <th>170999</th>\n",
       "      <td>22348</td>\n",
       "      <td>22348</td>\n",
       "    </tr>\n",
       "    <tr>\n",
       "      <th>171000</th>\n",
       "      <td>5563</td>\n",
       "      <td>5563</td>\n",
       "    </tr>\n",
       "    <tr>\n",
       "      <th>171001</th>\n",
       "      <td>22425</td>\n",
       "      <td>22425</td>\n",
       "    </tr>\n",
       "  </tbody>\n",
       "</table>\n",
       "<p>171002 rows × 2 columns</p>\n",
       "</div>"
      ],
      "text/plain": [
       "         id_1   id_2\n",
       "0           0  18427\n",
       "1           1  21708\n",
       "2           1  22208\n",
       "3           1  22171\n",
       "4           1   6829\n",
       "...       ...    ...\n",
       "170997  20188  20188\n",
       "170998  22340  22383\n",
       "170999  22348  22348\n",
       "171000   5563   5563\n",
       "171001  22425  22425\n",
       "\n",
       "[171002 rows x 2 columns]"
      ]
     },
     "execution_count": 728,
     "metadata": {},
     "output_type": "execute_result"
    }
   ],
   "source": [
    "edges_df = pd.read_csv(\"musae_facebook_edges.csv\")\n",
    "edges_df"
   ]
  },
  {
   "cell_type": "markdown",
   "metadata": {},
   "source": [
    "### 2-Approx algorithm\n",
    "\n",
    "1. tot - deg[v] = e(s,s)  {deg is a dict containing degrees}\n",
    "\n",
    "2. Remove v from deg\n",
    "\n",
    "3. Update deg of vertices that were connected to v\n",
    "\n",
    "4. Find the density \n",
    "\n",
    "5. Store the vertex removed and the density of the subgraph obtained after this"
   ]
  },
  {
   "cell_type": "markdown",
   "metadata": {},
   "source": [
    "### Dictionaries of degree, neighbors and self-loops (if >0) of vertices"
   ]
  },
  {
   "cell_type": "code",
   "execution_count": 729,
   "metadata": {},
   "outputs": [],
   "source": [
    "deg = {}\n",
    "neighbors = {}\n",
    "self_loops = {}\n",
    "\n",
    "for _, row in edges_df.iterrows():\n",
    "    if row['id_1'] == row['id_2']:\n",
    "        if row['id_1'] in self_loops:\n",
    "            self_loops[row['id_1']] += 1\n",
    "        else:\n",
    "            self_loops[row['id_1']] = 1\n",
    "\n",
    "    for node in ['id_1', 'id_2']:\n",
    "        if row[node] in deg:\n",
    "            deg[row[node]] += 1\n",
    "        else:\n",
    "            deg[row[node]] = 1\n",
    "\n",
    "    # Append to the neighbors list\n",
    "    if row['id_1'] in neighbors:\n",
    "        neighbors[row['id_1']].append(row['id_2'])\n",
    "    else:\n",
    "        neighbors[row['id_1']] = [row['id_2']]\n",
    "\n",
    "    if row['id_2'] in neighbors:\n",
    "        neighbors[row['id_2']].append(row['id_1'])\n",
    "    else:\n",
    "        neighbors[row['id_2']] = [row['id_1']]\n"
   ]
  },
  {
   "cell_type": "markdown",
   "metadata": {},
   "source": [
    "### Total edges in the graph"
   ]
  },
  {
   "cell_type": "code",
   "execution_count": 730,
   "metadata": {},
   "outputs": [
    {
     "data": {
      "text/plain": [
       "171002.0"
      ]
     },
     "execution_count": 730,
     "metadata": {},
     "output_type": "execute_result"
    }
   ],
   "source": [
    "tot = sum(deg.values())/2\n",
    "tot # e(S,S)"
   ]
  },
  {
   "cell_type": "markdown",
   "metadata": {},
   "source": [
    "### Total vertices in the graph"
   ]
  },
  {
   "cell_type": "code",
   "execution_count": 731,
   "metadata": {},
   "outputs": [
    {
     "data": {
      "text/plain": [
       "22470"
      ]
     },
     "execution_count": 731,
     "metadata": {},
     "output_type": "execute_result"
    }
   ],
   "source": [
    "ctr = len(deg) # |S|\n",
    "total_vertices = ctr\n",
    "total_vertices"
   ]
  },
  {
   "cell_type": "markdown",
   "metadata": {},
   "source": [
    "### Arrays of density and vertex"
   ]
  },
  {
   "cell_type": "code",
   "execution_count": 732,
   "metadata": {},
   "outputs": [],
   "source": [
    "density = [] # stores densities\n",
    "vertex = [] # vertex[0:i] (i included) contains vertices removed to achive density[i+1], i+1 as density[0] is for the full graph"
   ]
  },
  {
   "cell_type": "markdown",
   "metadata": {},
   "source": [
    "### Density of the full graph"
   ]
  },
  {
   "cell_type": "code",
   "execution_count": 733,
   "metadata": {},
   "outputs": [
    {
     "name": "stdout",
     "output_type": "stream",
     "text": [
      "[7.610235870048954]\n"
     ]
    }
   ],
   "source": [
    "density.append(tot/total_vertices) # Density of the full graph\n",
    "print(density)"
   ]
  },
  {
   "cell_type": "markdown",
   "metadata": {},
   "source": [
    "### Function to calucate the density of the subgraph after removing the min. degree vertex"
   ]
  },
  {
   "cell_type": "code",
   "execution_count": 734,
   "metadata": {},
   "outputs": [],
   "source": [
    "def find_density_greedy():\n",
    "    global tot\n",
    "    global deg\n",
    "    global ctr\n",
    "    global edges_df\n",
    "    global vertex\n",
    "    \n",
    "    v = min(deg, key=lambda k: deg[k]) # vertex with minimum degree\n",
    "    vertex.append(v) # Store the removed vertex\n",
    "    ctr = ctr - 1 # decrease |S| by 1 (as v is removed)\n",
    "    tot = tot - deg[v] # Update e(S,S)\n",
    "    # Check for self edges, in that case, we subtracted 2, but we must subtract only one\n",
    "    if v in self_loops:\n",
    "        tot += self_loops[v]\n",
    "    \n",
    "    den = tot / ctr\n",
    "    density.append(den)\n",
    "    deg.pop(v) # Remove v from deg\n",
    "    \n",
    "    selected_rows = pd.Series(neighbors[v])\n",
    "    deg_update = selected_rows.value_counts().to_dict()\n",
    "    for ver, count in deg_update.items():\n",
    "        if ver in deg:\n",
    "            deg[ver] -= count"
   ]
  },
  {
   "cell_type": "code",
   "execution_count": 735,
   "metadata": {},
   "outputs": [
    {
     "name": "stdout",
     "output_type": "stream",
     "text": [
      "1000\n",
      "2000\n",
      "3000\n",
      "4000\n",
      "5000\n",
      "6000\n",
      "7000\n",
      "8000\n",
      "9000\n",
      "10000\n",
      "11000\n",
      "12000\n",
      "13000\n",
      "14000\n",
      "15000\n",
      "16000\n",
      "17000\n",
      "18000\n",
      "19000\n",
      "20000\n",
      "21000\n",
      "22000\n"
     ]
    }
   ],
   "source": [
    "i = 1\n",
    "while(ctr>1):\n",
    "    i+=1\n",
    "    if (i%1000==0): # Prints i to get an estimate of how much execution is done\n",
    "        print(i)\n",
    "    find_density_greedy()\n",
    "    if(tot != sum(deg.values())/2): # Checks for correctness\n",
    "        print(\"here\")"
   ]
  },
  {
   "cell_type": "code",
   "execution_count": 736,
   "metadata": {},
   "outputs": [],
   "source": [
    "density = np.array(density)"
   ]
  },
  {
   "cell_type": "code",
   "execution_count": 737,
   "metadata": {},
   "outputs": [
    {
     "data": {
      "text/plain": [
       "35.006211180124225"
      ]
     },
     "execution_count": 737,
     "metadata": {},
     "output_type": "execute_result"
    }
   ],
   "source": [
    "x = np.argmax(density) - 1 # -1 as density[0] is the density of the full graph.\n",
    "density[x]"
   ]
  },
  {
   "cell_type": "code",
   "execution_count": 738,
   "metadata": {},
   "outputs": [
    {
     "data": {
      "text/plain": [
       "321"
      ]
     },
     "execution_count": 738,
     "metadata": {},
     "output_type": "execute_result"
    }
   ],
   "source": [
    "graph = []\n",
    "for i in range(0, total_vertices):\n",
    "    if i not in vertex[:x+1]:\n",
    "        graph.append(i)\n",
    "len(graph)"
   ]
  },
  {
   "cell_type": "code",
   "execution_count": 739,
   "metadata": {},
   "outputs": [
    {
     "data": {
      "text/plain": [
       "{'tvshow': 3327, 'government': 6880, 'company': 6495, 'politician': 5768}"
      ]
     },
     "execution_count": 739,
     "metadata": {},
     "output_type": "execute_result"
    }
   ],
   "source": [
    "fullgraph = {}\n",
    "for ver in range(total_vertices):\n",
    "    type = df.loc[ver, 'page_type']\n",
    "    if(type in fullgraph.keys()):\n",
    "        fullgraph[type] += 1\n",
    "    else:\n",
    "        fullgraph[type] = 1\n",
    "\n",
    "fullgraph"
   ]
  },
  {
   "cell_type": "code",
   "execution_count": 740,
   "metadata": {},
   "outputs": [
    {
     "data": {
      "text/plain": [
       "{'tvshow': 60, 'company': 4, 'government': 257}"
      ]
     },
     "execution_count": 740,
     "metadata": {},
     "output_type": "execute_result"
    }
   ],
   "source": [
    "dense1 = {}\n",
    "for ver in graph:\n",
    "    type = df.loc[ver, 'page_type']\n",
    "    if(type in dense1.keys()):\n",
    "        dense1[type] += 1\n",
    "    else:\n",
    "        dense1[type] = 1\n",
    "\n",
    "dense1"
   ]
  },
  {
   "cell_type": "code",
   "execution_count": 741,
   "metadata": {},
   "outputs": [
    {
     "data": {
      "text/plain": [
       "0.0"
      ]
     },
     "execution_count": 741,
     "metadata": {},
     "output_type": "execute_result"
    }
   ],
   "source": [
    "density[np.argmin(density)]"
   ]
  },
  {
   "cell_type": "code",
   "execution_count": 742,
   "metadata": {},
   "outputs": [
    {
     "data": {
      "text/plain": [
       "{7606: 0}"
      ]
     },
     "execution_count": 742,
     "metadata": {},
     "output_type": "execute_result"
    }
   ],
   "source": [
    "deg"
   ]
  },
  {
   "cell_type": "code",
   "execution_count": 743,
   "metadata": {},
   "outputs": [
    {
     "data": {
      "text/html": [
       "<div>\n",
       "<style scoped>\n",
       "    .dataframe tbody tr th:only-of-type {\n",
       "        vertical-align: middle;\n",
       "    }\n",
       "\n",
       "    .dataframe tbody tr th {\n",
       "        vertical-align: top;\n",
       "    }\n",
       "\n",
       "    .dataframe thead th {\n",
       "        text-align: right;\n",
       "    }\n",
       "</style>\n",
       "<table border=\"1\" class=\"dataframe\">\n",
       "  <thead>\n",
       "    <tr style=\"text-align: right;\">\n",
       "      <th></th>\n",
       "      <th>id</th>\n",
       "      <th>facebook_id</th>\n",
       "      <th>page_name</th>\n",
       "      <th>page_type</th>\n",
       "    </tr>\n",
       "  </thead>\n",
       "  <tbody>\n",
       "    <tr>\n",
       "      <th>0</th>\n",
       "      <td>0</td>\n",
       "      <td>145647315578475</td>\n",
       "      <td>The Voice of China 中国好声音</td>\n",
       "      <td>tvshow</td>\n",
       "    </tr>\n",
       "    <tr>\n",
       "      <th>1</th>\n",
       "      <td>1</td>\n",
       "      <td>191483281412</td>\n",
       "      <td>U.S. Consulate General Mumbai</td>\n",
       "      <td>government</td>\n",
       "    </tr>\n",
       "    <tr>\n",
       "      <th>2</th>\n",
       "      <td>2</td>\n",
       "      <td>144761358898518</td>\n",
       "      <td>ESET</td>\n",
       "      <td>company</td>\n",
       "    </tr>\n",
       "    <tr>\n",
       "      <th>3</th>\n",
       "      <td>3</td>\n",
       "      <td>568700043198473</td>\n",
       "      <td>Consulate General of Switzerland in Montreal</td>\n",
       "      <td>government</td>\n",
       "    </tr>\n",
       "    <tr>\n",
       "      <th>4</th>\n",
       "      <td>4</td>\n",
       "      <td>1408935539376139</td>\n",
       "      <td>Mark Bailey MP - Labor for Miller</td>\n",
       "      <td>politician</td>\n",
       "    </tr>\n",
       "    <tr>\n",
       "      <th>...</th>\n",
       "      <td>...</td>\n",
       "      <td>...</td>\n",
       "      <td>...</td>\n",
       "      <td>...</td>\n",
       "    </tr>\n",
       "    <tr>\n",
       "      <th>22465</th>\n",
       "      <td>22465</td>\n",
       "      <td>1379955382222841</td>\n",
       "      <td>Kurt Wiegel MdL</td>\n",
       "      <td>politician</td>\n",
       "    </tr>\n",
       "    <tr>\n",
       "      <th>22466</th>\n",
       "      <td>22466</td>\n",
       "      <td>1651527995097082</td>\n",
       "      <td>dubdub Stories</td>\n",
       "      <td>company</td>\n",
       "    </tr>\n",
       "    <tr>\n",
       "      <th>22467</th>\n",
       "      <td>22467</td>\n",
       "      <td>155369444540412</td>\n",
       "      <td>Ministerio del Interior - Paraguay</td>\n",
       "      <td>government</td>\n",
       "    </tr>\n",
       "    <tr>\n",
       "      <th>22468</th>\n",
       "      <td>22468</td>\n",
       "      <td>175067819212798</td>\n",
       "      <td>Tottus Perú</td>\n",
       "      <td>company</td>\n",
       "    </tr>\n",
       "    <tr>\n",
       "      <th>22469</th>\n",
       "      <td>22469</td>\n",
       "      <td>27208897877</td>\n",
       "      <td>SPORT1 Doppelpass</td>\n",
       "      <td>tvshow</td>\n",
       "    </tr>\n",
       "  </tbody>\n",
       "</table>\n",
       "<p>22470 rows × 4 columns</p>\n",
       "</div>"
      ],
      "text/plain": [
       "          id       facebook_id                                     page_name  \\\n",
       "0          0   145647315578475                      The Voice of China 中国好声音   \n",
       "1          1      191483281412                 U.S. Consulate General Mumbai   \n",
       "2          2   144761358898518                                          ESET   \n",
       "3          3   568700043198473  Consulate General of Switzerland in Montreal   \n",
       "4          4  1408935539376139             Mark Bailey MP - Labor for Miller   \n",
       "...      ...               ...                                           ...   \n",
       "22465  22465  1379955382222841                               Kurt Wiegel MdL   \n",
       "22466  22466  1651527995097082                                dubdub Stories   \n",
       "22467  22467   155369444540412            Ministerio del Interior - Paraguay   \n",
       "22468  22468   175067819212798                                   Tottus Perú   \n",
       "22469  22469       27208897877                             SPORT1 Doppelpass   \n",
       "\n",
       "        page_type  \n",
       "0          tvshow  \n",
       "1      government  \n",
       "2         company  \n",
       "3      government  \n",
       "4      politician  \n",
       "...           ...  \n",
       "22465  politician  \n",
       "22466     company  \n",
       "22467  government  \n",
       "22468     company  \n",
       "22469      tvshow  \n",
       "\n",
       "[22470 rows x 4 columns]"
      ]
     },
     "execution_count": 743,
     "metadata": {},
     "output_type": "execute_result"
    }
   ],
   "source": [
    "df"
   ]
  },
  {
   "cell_type": "code",
   "execution_count": 744,
   "metadata": {},
   "outputs": [
    {
     "data": {
      "text/plain": [
       "321"
      ]
     },
     "execution_count": 744,
     "metadata": {},
     "output_type": "execute_result"
    }
   ],
   "source": [
    "len(graph)"
   ]
  },
  {
   "cell_type": "code",
   "execution_count": 745,
   "metadata": {},
   "outputs": [
    {
     "data": {
      "text/html": [
       "<div>\n",
       "<style scoped>\n",
       "    .dataframe tbody tr th:only-of-type {\n",
       "        vertical-align: middle;\n",
       "    }\n",
       "\n",
       "    .dataframe tbody tr th {\n",
       "        vertical-align: top;\n",
       "    }\n",
       "\n",
       "    .dataframe thead th {\n",
       "        text-align: right;\n",
       "    }\n",
       "</style>\n",
       "<table border=\"1\" class=\"dataframe\">\n",
       "  <thead>\n",
       "    <tr style=\"text-align: right;\">\n",
       "      <th></th>\n",
       "      <th>id</th>\n",
       "      <th>facebook_id</th>\n",
       "      <th>page_name</th>\n",
       "      <th>page_type</th>\n",
       "    </tr>\n",
       "  </thead>\n",
       "  <tbody>\n",
       "    <tr>\n",
       "      <th>44</th>\n",
       "      <td>44</td>\n",
       "      <td>1507698529534072</td>\n",
       "      <td>APB FOX</td>\n",
       "      <td>tvshow</td>\n",
       "    </tr>\n",
       "    <tr>\n",
       "      <th>127</th>\n",
       "      <td>127</td>\n",
       "      <td>354595427910013</td>\n",
       "      <td>GovX</td>\n",
       "      <td>company</td>\n",
       "    </tr>\n",
       "    <tr>\n",
       "      <th>159</th>\n",
       "      <td>159</td>\n",
       "      <td>167394579972573</td>\n",
       "      <td>JRTC and Fort Polk</td>\n",
       "      <td>government</td>\n",
       "    </tr>\n",
       "    <tr>\n",
       "      <th>568</th>\n",
       "      <td>568</td>\n",
       "      <td>127428534470290</td>\n",
       "      <td>The Orville</td>\n",
       "      <td>tvshow</td>\n",
       "    </tr>\n",
       "    <tr>\n",
       "      <th>679</th>\n",
       "      <td>679</td>\n",
       "      <td>146451038734267</td>\n",
       "      <td>Michigan National Guard</td>\n",
       "      <td>government</td>\n",
       "    </tr>\n",
       "    <tr>\n",
       "      <th>...</th>\n",
       "      <td>...</td>\n",
       "      <td>...</td>\n",
       "      <td>...</td>\n",
       "      <td>...</td>\n",
       "    </tr>\n",
       "    <tr>\n",
       "      <th>22252</th>\n",
       "      <td>22252</td>\n",
       "      <td>174788155866586</td>\n",
       "      <td>U.S. Army School of Music</td>\n",
       "      <td>government</td>\n",
       "    </tr>\n",
       "    <tr>\n",
       "      <th>22265</th>\n",
       "      <td>22265</td>\n",
       "      <td>61575637587</td>\n",
       "      <td>U.S. Pacific Command</td>\n",
       "      <td>government</td>\n",
       "    </tr>\n",
       "    <tr>\n",
       "      <th>22328</th>\n",
       "      <td>22328</td>\n",
       "      <td>114802901909136</td>\n",
       "      <td>North Carolina National Guard</td>\n",
       "      <td>government</td>\n",
       "    </tr>\n",
       "    <tr>\n",
       "      <th>22349</th>\n",
       "      <td>22349</td>\n",
       "      <td>110318209007293</td>\n",
       "      <td>21st Theater Sustainment Command</td>\n",
       "      <td>government</td>\n",
       "    </tr>\n",
       "    <tr>\n",
       "      <th>22398</th>\n",
       "      <td>22398</td>\n",
       "      <td>100187832121</td>\n",
       "      <td>U.S. Army Civil Affairs &amp; Psychological Operat...</td>\n",
       "      <td>government</td>\n",
       "    </tr>\n",
       "  </tbody>\n",
       "</table>\n",
       "<p>321 rows × 4 columns</p>\n",
       "</div>"
      ],
      "text/plain": [
       "          id       facebook_id  \\\n",
       "44        44  1507698529534072   \n",
       "127      127   354595427910013   \n",
       "159      159   167394579972573   \n",
       "568      568   127428534470290   \n",
       "679      679   146451038734267   \n",
       "...      ...               ...   \n",
       "22252  22252   174788155866586   \n",
       "22265  22265       61575637587   \n",
       "22328  22328   114802901909136   \n",
       "22349  22349   110318209007293   \n",
       "22398  22398      100187832121   \n",
       "\n",
       "                                               page_name   page_type  \n",
       "44                                               APB FOX      tvshow  \n",
       "127                                                 GovX     company  \n",
       "159                                   JRTC and Fort Polk  government  \n",
       "568                                          The Orville      tvshow  \n",
       "679                              Michigan National Guard  government  \n",
       "...                                                  ...         ...  \n",
       "22252                          U.S. Army School of Music  government  \n",
       "22265                               U.S. Pacific Command  government  \n",
       "22328                      North Carolina National Guard  government  \n",
       "22349                   21st Theater Sustainment Command  government  \n",
       "22398  U.S. Army Civil Affairs & Psychological Operat...  government  \n",
       "\n",
       "[321 rows x 4 columns]"
      ]
     },
     "execution_count": 745,
     "metadata": {},
     "output_type": "execute_result"
    }
   ],
   "source": [
    "df[df['id'].isin(graph)]\n"
   ]
  }
 ],
 "metadata": {
  "kernelspec": {
   "display_name": "Python 3",
   "language": "python",
   "name": "python3"
  },
  "language_info": {
   "codemirror_mode": {
    "name": "ipython",
    "version": 3
   },
   "file_extension": ".py",
   "mimetype": "text/x-python",
   "name": "python",
   "nbconvert_exporter": "python",
   "pygments_lexer": "ipython3",
   "version": "3.10.12"
  }
 },
 "nbformat": 4,
 "nbformat_minor": 2
}
